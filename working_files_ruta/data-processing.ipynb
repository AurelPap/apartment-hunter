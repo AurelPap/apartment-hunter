{
 "cells": [
  {
   "cell_type": "markdown",
   "metadata": {},
   "source": [
    "# apartment-hunter"
   ]
  },
  {
   "cell_type": "markdown",
   "metadata": {},
   "source": [
    "The dataset is a home sales data that comes from the official public records of home sales in the King County area, Washington State. The data set contains 21613 rows. Each represents a home sold from May 2014 through May 2015."
   ]
  },
  {
   "cell_type": "markdown",
   "metadata": {
    "jp-MarkdownHeadingCollapsed": true
   },
   "source": [
    "##### Libraries"
   ]
  },
  {
   "cell_type": "code",
   "execution_count": 36,
   "metadata": {},
   "outputs": [],
   "source": [
    "import pandas as pd\n",
    "import matplotlib.pyplot as plt\n",
    "import seaborn as sns\n",
    "import warnings\n",
    "from scipy.stats import skew, kurtosis\n",
    "\n",
    "warnings.filterwarnings(\"ignore\", category=FutureWarning)"
   ]
  },
  {
   "cell_type": "markdown",
   "metadata": {},
   "source": [
    "##### Functions"
   ]
  },
  {
   "cell_type": "code",
   "execution_count": 37,
   "metadata": {},
   "outputs": [],
   "source": [
    "def boxplot(data, label, title='', axis='y', figsize=(6,6)):\n",
    "    plt.figure(figsize=figsize)\n",
    "    sns.boxplot(x=data) if axis == 'x' else sns.boxplot(y=data)\n",
    "    if title != '':\n",
    "        title = f'{title} '\n",
    "    title = f'{title}Boxplot of {label}'\n",
    "    plt.title(title)\n",
    "    plt.xlabel(label) if axis == 'x' else plt.ylabel(label)\n",
    "    plt.ticklabel_format(style='plain', axis=axis)\n",
    "    plt.show()\n",
    "\n",
    "def upper_whisker(data):\n",
    "    q3 = data.quantile(0.75)\n",
    "    iqr = data.quantile(0.75) - data.quantile(0.25)\n",
    "    upper_whisker = q3 + 1.5 * iqr\n",
    "    return upper_whisker\n",
    "\n",
    "def lower_whisker(data):\n",
    "    q1 = data.quantile(0.25)\n",
    "    iqr = data.quantile(0.75) - data.quantile(0.25)\n",
    "    lower_whisker = q1 - 1.5 * iqr\n",
    "    return lower_whisker\n",
    "\n",
    "def histogram(data, bins, label, title='' '''{title} {label} data distribution''', figsize=(8, 6), xticksrotation=0, skewness=(0, 0), kurtosis=(0, 0), mean=False, median=False, legend=False):\n",
    "    plt.figure(figsize=figsize)\n",
    "    plt.hist(data, bins=bins, color='skyblue', edgecolor='black')\n",
    "    if mean == True:\n",
    "        mean_price = data.mean()\n",
    "        plt.axvline(mean_price, color='red', linestyle='dashed', linewidth=1, label=f'Mean: {mean_price:.2f}')\n",
    "    if median == True:\n",
    "        median_price = data.median()\n",
    "        plt.axvline(median_price, color='green', linestyle='dashed', linewidth=1, label=f'Median: {median_price:.2f}')\n",
    "    if skewness != (0, 0):\n",
    "        skewness_value = data.skew()\n",
    "        plt.text(skewness[0], skewness[1], f'Skewness: {skewness_value:.2f}', transform=plt.gca().transAxes)\n",
    "    if kurtosis != (0, 0):\n",
    "        kurtosis_value = data.kurtosis()\n",
    "        plt.text(kurtosis[0], kurtosis[1], f'Kurtosis: {kurtosis_value:.2f}', transform=plt.gca().transAxes)\n",
    "    plt.xlabel(label)\n",
    "    plt.ylabel('Frequency')\n",
    "    if legend == True:\n",
    "        plt.legend()\n",
    "    if title != '':\n",
    "        title = f'{title} '\n",
    "    plt.title(f'{title}{label} data distribution')\n",
    "    plt.xticks(rotation=xticksrotation)\n",
    "    plt.ticklabel_format(style='plain', axis='x')\n",
    "    plt.show()"
   ]
  },
  {
   "cell_type": "markdown",
   "metadata": {
    "jp-MarkdownHeadingCollapsed": true
   },
   "source": [
    "##### Data processing: cleaning, transforming, and making data suitable for analysis  "
   ]
  },
  {
   "cell_type": "code",
   "execution_count": 38,
   "metadata": {},
   "outputs": [
    {
     "data": {
      "text/html": [
       "<div>\n",
       "<style scoped>\n",
       "    .dataframe tbody tr th:only-of-type {\n",
       "        vertical-align: middle;\n",
       "    }\n",
       "\n",
       "    .dataframe tbody tr th {\n",
       "        vertical-align: top;\n",
       "    }\n",
       "\n",
       "    .dataframe thead th {\n",
       "        text-align: right;\n",
       "    }\n",
       "</style>\n",
       "<table border=\"1\" class=\"dataframe\">\n",
       "  <thead>\n",
       "    <tr style=\"text-align: right;\">\n",
       "      <th></th>\n",
       "      <th>id</th>\n",
       "      <th>date</th>\n",
       "      <th>price</th>\n",
       "      <th>bedrooms</th>\n",
       "      <th>bathrooms</th>\n",
       "      <th>sqft_living</th>\n",
       "      <th>sqft_lot</th>\n",
       "      <th>floors</th>\n",
       "      <th>waterfront</th>\n",
       "      <th>view</th>\n",
       "      <th>...</th>\n",
       "      <th>grade</th>\n",
       "      <th>sqft_above</th>\n",
       "      <th>sqft_basement</th>\n",
       "      <th>yr_built</th>\n",
       "      <th>yr_renovated</th>\n",
       "      <th>zipcode</th>\n",
       "      <th>lat</th>\n",
       "      <th>long</th>\n",
       "      <th>sqft_living15</th>\n",
       "      <th>sqft_lot15</th>\n",
       "    </tr>\n",
       "  </thead>\n",
       "  <tbody>\n",
       "    <tr>\n",
       "      <th>0</th>\n",
       "      <td>7129300520</td>\n",
       "      <td>20141013T000000</td>\n",
       "      <td>221900.00</td>\n",
       "      <td>3</td>\n",
       "      <td>1.00</td>\n",
       "      <td>1180</td>\n",
       "      <td>5650</td>\n",
       "      <td>1.00</td>\n",
       "      <td>0</td>\n",
       "      <td>0</td>\n",
       "      <td>...</td>\n",
       "      <td>7</td>\n",
       "      <td>1180</td>\n",
       "      <td>0</td>\n",
       "      <td>1955</td>\n",
       "      <td>0</td>\n",
       "      <td>98178</td>\n",
       "      <td>47.51</td>\n",
       "      <td>-122.26</td>\n",
       "      <td>1340</td>\n",
       "      <td>5650</td>\n",
       "    </tr>\n",
       "    <tr>\n",
       "      <th>1</th>\n",
       "      <td>6414100192</td>\n",
       "      <td>20141209T000000</td>\n",
       "      <td>538000.00</td>\n",
       "      <td>3</td>\n",
       "      <td>2.25</td>\n",
       "      <td>2570</td>\n",
       "      <td>7242</td>\n",
       "      <td>2.00</td>\n",
       "      <td>0</td>\n",
       "      <td>0</td>\n",
       "      <td>...</td>\n",
       "      <td>7</td>\n",
       "      <td>2170</td>\n",
       "      <td>400</td>\n",
       "      <td>1951</td>\n",
       "      <td>1991</td>\n",
       "      <td>98125</td>\n",
       "      <td>47.72</td>\n",
       "      <td>-122.32</td>\n",
       "      <td>1690</td>\n",
       "      <td>7639</td>\n",
       "    </tr>\n",
       "    <tr>\n",
       "      <th>2</th>\n",
       "      <td>5631500400</td>\n",
       "      <td>20150225T000000</td>\n",
       "      <td>180000.00</td>\n",
       "      <td>2</td>\n",
       "      <td>1.00</td>\n",
       "      <td>770</td>\n",
       "      <td>10000</td>\n",
       "      <td>1.00</td>\n",
       "      <td>0</td>\n",
       "      <td>0</td>\n",
       "      <td>...</td>\n",
       "      <td>6</td>\n",
       "      <td>770</td>\n",
       "      <td>0</td>\n",
       "      <td>1933</td>\n",
       "      <td>0</td>\n",
       "      <td>98028</td>\n",
       "      <td>47.74</td>\n",
       "      <td>-122.23</td>\n",
       "      <td>2720</td>\n",
       "      <td>8062</td>\n",
       "    </tr>\n",
       "    <tr>\n",
       "      <th>3</th>\n",
       "      <td>2487200875</td>\n",
       "      <td>20141209T000000</td>\n",
       "      <td>604000.00</td>\n",
       "      <td>4</td>\n",
       "      <td>3.00</td>\n",
       "      <td>1960</td>\n",
       "      <td>5000</td>\n",
       "      <td>1.00</td>\n",
       "      <td>0</td>\n",
       "      <td>0</td>\n",
       "      <td>...</td>\n",
       "      <td>7</td>\n",
       "      <td>1050</td>\n",
       "      <td>910</td>\n",
       "      <td>1965</td>\n",
       "      <td>0</td>\n",
       "      <td>98136</td>\n",
       "      <td>47.52</td>\n",
       "      <td>-122.39</td>\n",
       "      <td>1360</td>\n",
       "      <td>5000</td>\n",
       "    </tr>\n",
       "    <tr>\n",
       "      <th>4</th>\n",
       "      <td>1954400510</td>\n",
       "      <td>20150218T000000</td>\n",
       "      <td>510000.00</td>\n",
       "      <td>3</td>\n",
       "      <td>2.00</td>\n",
       "      <td>1680</td>\n",
       "      <td>8080</td>\n",
       "      <td>1.00</td>\n",
       "      <td>0</td>\n",
       "      <td>0</td>\n",
       "      <td>...</td>\n",
       "      <td>8</td>\n",
       "      <td>1680</td>\n",
       "      <td>0</td>\n",
       "      <td>1987</td>\n",
       "      <td>0</td>\n",
       "      <td>98074</td>\n",
       "      <td>47.62</td>\n",
       "      <td>-122.05</td>\n",
       "      <td>1800</td>\n",
       "      <td>7503</td>\n",
       "    </tr>\n",
       "  </tbody>\n",
       "</table>\n",
       "<p>5 rows × 21 columns</p>\n",
       "</div>"
      ],
      "text/plain": [
       "           id             date     price  bedrooms  bathrooms  sqft_living  \\\n",
       "0  7129300520  20141013T000000 221900.00         3       1.00         1180   \n",
       "1  6414100192  20141209T000000 538000.00         3       2.25         2570   \n",
       "2  5631500400  20150225T000000 180000.00         2       1.00          770   \n",
       "3  2487200875  20141209T000000 604000.00         4       3.00         1960   \n",
       "4  1954400510  20150218T000000 510000.00         3       2.00         1680   \n",
       "\n",
       "   sqft_lot  floors  waterfront  view  ...  grade  sqft_above  sqft_basement  \\\n",
       "0      5650    1.00           0     0  ...      7        1180              0   \n",
       "1      7242    2.00           0     0  ...      7        2170            400   \n",
       "2     10000    1.00           0     0  ...      6         770              0   \n",
       "3      5000    1.00           0     0  ...      7        1050            910   \n",
       "4      8080    1.00           0     0  ...      8        1680              0   \n",
       "\n",
       "   yr_built  yr_renovated  zipcode   lat    long  sqft_living15  sqft_lot15  \n",
       "0      1955             0    98178 47.51 -122.26           1340        5650  \n",
       "1      1951          1991    98125 47.72 -122.32           1690        7639  \n",
       "2      1933             0    98028 47.74 -122.23           2720        8062  \n",
       "3      1965             0    98136 47.52 -122.39           1360        5000  \n",
       "4      1987             0    98074 47.62 -122.05           1800        7503  \n",
       "\n",
       "[5 rows x 21 columns]"
      ]
     },
     "execution_count": 38,
     "metadata": {},
     "output_type": "execute_result"
    }
   ],
   "source": [
    "df = pd.read_csv('../data/kc_house_data.csv')\n",
    "df_original = df.copy()\n",
    "df.head()"
   ]
  },
  {
   "cell_type": "code",
   "execution_count": 39,
   "metadata": {},
   "outputs": [
    {
     "name": "stdout",
     "output_type": "stream",
     "text": [
      "The dataframe has 21613 lines and 21 columns.\n"
     ]
    }
   ],
   "source": [
    "print(f'The dataframe has {df.shape[0]} lines and {df.shape[1]} columns.')"
   ]
  },
  {
   "cell_type": "markdown",
   "metadata": {},
   "source": [
    "All columns:"
   ]
  },
  {
   "cell_type": "code",
   "execution_count": 40,
   "metadata": {},
   "outputs": [
    {
     "data": {
      "text/plain": [
       "Index(['id', 'date', 'price', 'bedrooms', 'bathrooms', 'sqft_living',\n",
       "       'sqft_lot', 'floors', 'waterfront', 'view', 'condition', 'grade',\n",
       "       'sqft_above', 'sqft_basement', 'yr_built', 'yr_renovated', 'zipcode',\n",
       "       'lat', 'long', 'sqft_living15', 'sqft_lot15'],\n",
       "      dtype='object')"
      ]
     },
     "execution_count": 40,
     "metadata": {},
     "output_type": "execute_result"
    }
   ],
   "source": [
    "df.columns"
   ]
  },
  {
   "cell_type": "markdown",
   "metadata": {},
   "source": [
    "Existing data types:"
   ]
  },
  {
   "cell_type": "code",
   "execution_count": 41,
   "metadata": {},
   "outputs": [
    {
     "data": {
      "text/plain": [
       "int64      15\n",
       "float64     5\n",
       "object      1\n",
       "Name: count, dtype: int64"
      ]
     },
     "execution_count": 41,
     "metadata": {},
     "output_type": "execute_result"
    }
   ],
   "source": [
    "df.dtypes.value_counts()"
   ]
  },
  {
   "cell_type": "markdown",
   "metadata": {
    "jp-MarkdownHeadingCollapsed": true
   },
   "source": [
    "#### date"
   ]
  },
  {
   "cell_type": "code",
   "execution_count": 42,
   "metadata": {},
   "outputs": [
    {
     "data": {
      "text/html": [
       "<div>\n",
       "<style scoped>\n",
       "    .dataframe tbody tr th:only-of-type {\n",
       "        vertical-align: middle;\n",
       "    }\n",
       "\n",
       "    .dataframe tbody tr th {\n",
       "        vertical-align: top;\n",
       "    }\n",
       "\n",
       "    .dataframe thead th {\n",
       "        text-align: right;\n",
       "    }\n",
       "</style>\n",
       "<table border=\"1\" class=\"dataframe\">\n",
       "  <thead>\n",
       "    <tr style=\"text-align: right;\">\n",
       "      <th></th>\n",
       "      <th>date</th>\n",
       "    </tr>\n",
       "  </thead>\n",
       "  <tbody>\n",
       "    <tr>\n",
       "      <th>count</th>\n",
       "      <td>21613</td>\n",
       "    </tr>\n",
       "    <tr>\n",
       "      <th>unique</th>\n",
       "      <td>372</td>\n",
       "    </tr>\n",
       "    <tr>\n",
       "      <th>top</th>\n",
       "      <td>20140623T000000</td>\n",
       "    </tr>\n",
       "    <tr>\n",
       "      <th>freq</th>\n",
       "      <td>142</td>\n",
       "    </tr>\n",
       "  </tbody>\n",
       "</table>\n",
       "</div>"
      ],
      "text/plain": [
       "                   date\n",
       "count             21613\n",
       "unique              372\n",
       "top     20140623T000000\n",
       "freq                142"
      ]
     },
     "execution_count": 42,
     "metadata": {},
     "output_type": "execute_result"
    }
   ],
   "source": [
    "df.describe(include='object')"
   ]
  },
  {
   "cell_type": "markdown",
   "metadata": {},
   "source": [
    "We will convert date column to a datetime data type for easier manipulation and analysis:"
   ]
  },
  {
   "cell_type": "code",
   "execution_count": 43,
   "metadata": {},
   "outputs": [
    {
     "data": {
      "text/html": [
       "<div>\n",
       "<style scoped>\n",
       "    .dataframe tbody tr th:only-of-type {\n",
       "        vertical-align: middle;\n",
       "    }\n",
       "\n",
       "    .dataframe tbody tr th {\n",
       "        vertical-align: top;\n",
       "    }\n",
       "\n",
       "    .dataframe thead th {\n",
       "        text-align: right;\n",
       "    }\n",
       "</style>\n",
       "<table border=\"1\" class=\"dataframe\">\n",
       "  <thead>\n",
       "    <tr style=\"text-align: right;\">\n",
       "      <th></th>\n",
       "      <th>date</th>\n",
       "    </tr>\n",
       "  </thead>\n",
       "  <tbody>\n",
       "    <tr>\n",
       "      <th>count</th>\n",
       "      <td>21613</td>\n",
       "    </tr>\n",
       "    <tr>\n",
       "      <th>mean</th>\n",
       "      <td>2014-10-29 04:38:01.959931648</td>\n",
       "    </tr>\n",
       "    <tr>\n",
       "      <th>min</th>\n",
       "      <td>2014-05-02 00:00:00</td>\n",
       "    </tr>\n",
       "    <tr>\n",
       "      <th>25%</th>\n",
       "      <td>2014-07-22 00:00:00</td>\n",
       "    </tr>\n",
       "    <tr>\n",
       "      <th>50%</th>\n",
       "      <td>2014-10-16 00:00:00</td>\n",
       "    </tr>\n",
       "    <tr>\n",
       "      <th>75%</th>\n",
       "      <td>2015-02-17 00:00:00</td>\n",
       "    </tr>\n",
       "    <tr>\n",
       "      <th>max</th>\n",
       "      <td>2015-05-27 00:00:00</td>\n",
       "    </tr>\n",
       "  </tbody>\n",
       "</table>\n",
       "</div>"
      ],
      "text/plain": [
       "                                date\n",
       "count                          21613\n",
       "mean   2014-10-29 04:38:01.959931648\n",
       "min              2014-05-02 00:00:00\n",
       "25%              2014-07-22 00:00:00\n",
       "50%              2014-10-16 00:00:00\n",
       "75%              2015-02-17 00:00:00\n",
       "max              2015-05-27 00:00:00"
      ]
     },
     "execution_count": 43,
     "metadata": {},
     "output_type": "execute_result"
    }
   ],
   "source": [
    "df['date'] = pd.to_datetime(df['date'])\n",
    "df.describe(include='datetime')\n"
   ]
  },
  {
   "cell_type": "markdown",
   "metadata": {},
   "source": [
    "The Real Estate sales data begins on May 2, 2014, and ends on May 27, 2015."
   ]
  },
  {
   "cell_type": "markdown",
   "metadata": {},
   "source": [
    "#### Searching for duplicates:"
   ]
  },
  {
   "cell_type": "code",
   "execution_count": 44,
   "metadata": {},
   "outputs": [
    {
     "name": "stdout",
     "output_type": "stream",
     "text": [
      "Lines with duplicating ids:  353\n"
     ]
    }
   ],
   "source": [
    "duplicates = df[df.duplicated(['id'], keep=False)]\n",
    "print('Lines with duplicating ids: ', len(duplicates))"
   ]
  },
  {
   "cell_type": "markdown",
   "metadata": {},
   "source": [
    "Testing if all duplicates share the same features (except for price and date). Creating deduplication key in the df:"
   ]
  },
  {
   "cell_type": "code",
   "execution_count": 45,
   "metadata": {},
   "outputs": [
    {
     "name": "stdout",
     "output_type": "stream",
     "text": [
      "Lines with duplicating ids where all features remain the same:  353\n"
     ]
    }
   ],
   "source": [
    "columns_to_include = ['id', 'bedrooms', 'bathrooms', 'sqft_living', 'sqft_lot', 'floors', 'waterfront', 'view', 'condition', 'grade', 'sqft_above', 'sqft_basement', 'yr_built', 'yr_renovated', 'zipcode', 'lat', 'long', 'sqft_living15', 'sqft_lot15']\n",
    "df['deduplication_key'] = df[columns_to_include].apply(lambda row: '_'.join(map(str, row)), axis=1)\n",
    "duplicates = df[df.duplicated(subset='deduplication_key', keep=False)]\n",
    "print('Lines with duplicating ids where all features remain the same: ', len(duplicates))"
   ]
  },
  {
   "cell_type": "markdown",
   "metadata": {},
   "source": [
    "All features remain the same except for price and date. This means the object was sold more than once.  We will create a *df_dedup_avg* with the average price of sales and another *df_dedup* with the latest sales price."
   ]
  },
  {
   "cell_type": "markdown",
   "metadata": {},
   "source": [
    "Creating deduplicated df **df_avg** with the average date and price values of duplicates:"
   ]
  },
  {
   "cell_type": "code",
   "execution_count": 46,
   "metadata": {},
   "outputs": [],
   "source": [
    "filtered_duplicates = df[df.duplicated(subset='deduplication_key', keep=False)]\n",
    "df_avg = df.copy()\n",
    "df_avg['mean_price'] = filtered_duplicates.groupby('deduplication_key')['price'].transform('mean')\n",
    "df_avg['mean_date'] = filtered_duplicates.groupby('deduplication_key')['date'].transform('mean')\n",
    "df_avg = df_avg[~df_avg.duplicated(subset='deduplication_key')]\n",
    "df_avg['price'] = df_avg['mean_price']\n",
    "df_avg['date'] = df_avg['mean_date']\n",
    "df_avg.drop(columns=['deduplication_key', 'mean_price', 'mean_date'], inplace=True)"
   ]
  },
  {
   "cell_type": "markdown",
   "metadata": {},
   "source": [
    "Creating deduplicated **df_latest** with latest date values are left in the df:"
   ]
  },
  {
   "cell_type": "code",
   "execution_count": 47,
   "metadata": {},
   "outputs": [],
   "source": [
    "df_latest = df.sort_values(by='date', ascending=True)\n",
    "df_latest = df_latest.drop_duplicates(subset='deduplication_key', keep='last')\n",
    "del df_latest['deduplication_key']\n",
    "del df['deduplication_key']"
   ]
  },
  {
   "cell_type": "markdown",
   "metadata": {},
   "source": [
    "One duplicate (id=6021501535) example in original **df**:"
   ]
  },
  {
   "cell_type": "code",
   "execution_count": 48,
   "metadata": {},
   "outputs": [
    {
     "data": {
      "text/html": [
       "<div>\n",
       "<style scoped>\n",
       "    .dataframe tbody tr th:only-of-type {\n",
       "        vertical-align: middle;\n",
       "    }\n",
       "\n",
       "    .dataframe tbody tr th {\n",
       "        vertical-align: top;\n",
       "    }\n",
       "\n",
       "    .dataframe thead th {\n",
       "        text-align: right;\n",
       "    }\n",
       "</style>\n",
       "<table border=\"1\" class=\"dataframe\">\n",
       "  <thead>\n",
       "    <tr style=\"text-align: right;\">\n",
       "      <th></th>\n",
       "      <th>id</th>\n",
       "      <th>date</th>\n",
       "      <th>price</th>\n",
       "      <th>bedrooms</th>\n",
       "      <th>bathrooms</th>\n",
       "      <th>sqft_living</th>\n",
       "      <th>sqft_lot</th>\n",
       "      <th>floors</th>\n",
       "      <th>waterfront</th>\n",
       "      <th>view</th>\n",
       "      <th>...</th>\n",
       "      <th>grade</th>\n",
       "      <th>sqft_above</th>\n",
       "      <th>sqft_basement</th>\n",
       "      <th>yr_built</th>\n",
       "      <th>yr_renovated</th>\n",
       "      <th>zipcode</th>\n",
       "      <th>lat</th>\n",
       "      <th>long</th>\n",
       "      <th>sqft_living15</th>\n",
       "      <th>sqft_lot15</th>\n",
       "    </tr>\n",
       "  </thead>\n",
       "  <tbody>\n",
       "    <tr>\n",
       "      <th>93</th>\n",
       "      <td>6021501535</td>\n",
       "      <td>2014-07-25</td>\n",
       "      <td>430000.00</td>\n",
       "      <td>3</td>\n",
       "      <td>1.50</td>\n",
       "      <td>1580</td>\n",
       "      <td>5000</td>\n",
       "      <td>1.00</td>\n",
       "      <td>0</td>\n",
       "      <td>0</td>\n",
       "      <td>...</td>\n",
       "      <td>8</td>\n",
       "      <td>1290</td>\n",
       "      <td>290</td>\n",
       "      <td>1939</td>\n",
       "      <td>0</td>\n",
       "      <td>98117</td>\n",
       "      <td>47.69</td>\n",
       "      <td>-122.39</td>\n",
       "      <td>1570</td>\n",
       "      <td>4500</td>\n",
       "    </tr>\n",
       "    <tr>\n",
       "      <th>94</th>\n",
       "      <td>6021501535</td>\n",
       "      <td>2014-12-23</td>\n",
       "      <td>700000.00</td>\n",
       "      <td>3</td>\n",
       "      <td>1.50</td>\n",
       "      <td>1580</td>\n",
       "      <td>5000</td>\n",
       "      <td>1.00</td>\n",
       "      <td>0</td>\n",
       "      <td>0</td>\n",
       "      <td>...</td>\n",
       "      <td>8</td>\n",
       "      <td>1290</td>\n",
       "      <td>290</td>\n",
       "      <td>1939</td>\n",
       "      <td>0</td>\n",
       "      <td>98117</td>\n",
       "      <td>47.69</td>\n",
       "      <td>-122.39</td>\n",
       "      <td>1570</td>\n",
       "      <td>4500</td>\n",
       "    </tr>\n",
       "  </tbody>\n",
       "</table>\n",
       "<p>2 rows × 21 columns</p>\n",
       "</div>"
      ],
      "text/plain": [
       "            id       date     price  bedrooms  bathrooms  sqft_living  \\\n",
       "93  6021501535 2014-07-25 430000.00         3       1.50         1580   \n",
       "94  6021501535 2014-12-23 700000.00         3       1.50         1580   \n",
       "\n",
       "    sqft_lot  floors  waterfront  view  ...  grade  sqft_above  sqft_basement  \\\n",
       "93      5000    1.00           0     0  ...      8        1290            290   \n",
       "94      5000    1.00           0     0  ...      8        1290            290   \n",
       "\n",
       "    yr_built  yr_renovated  zipcode   lat    long  sqft_living15  sqft_lot15  \n",
       "93      1939             0    98117 47.69 -122.39           1570        4500  \n",
       "94      1939             0    98117 47.69 -122.39           1570        4500  \n",
       "\n",
       "[2 rows x 21 columns]"
      ]
     },
     "execution_count": 48,
     "metadata": {},
     "output_type": "execute_result"
    }
   ],
   "source": [
    "example_id = df[df['id'] == 6021501535]\n",
    "example_id"
   ]
  },
  {
   "cell_type": "markdown",
   "metadata": {},
   "source": [
    "THe same duplicate (id=6021501535) example in **df_avg**:"
   ]
  },
  {
   "cell_type": "code",
   "execution_count": 49,
   "metadata": {},
   "outputs": [
    {
     "data": {
      "text/html": [
       "<div>\n",
       "<style scoped>\n",
       "    .dataframe tbody tr th:only-of-type {\n",
       "        vertical-align: middle;\n",
       "    }\n",
       "\n",
       "    .dataframe tbody tr th {\n",
       "        vertical-align: top;\n",
       "    }\n",
       "\n",
       "    .dataframe thead th {\n",
       "        text-align: right;\n",
       "    }\n",
       "</style>\n",
       "<table border=\"1\" class=\"dataframe\">\n",
       "  <thead>\n",
       "    <tr style=\"text-align: right;\">\n",
       "      <th></th>\n",
       "      <th>id</th>\n",
       "      <th>date</th>\n",
       "      <th>price</th>\n",
       "      <th>bedrooms</th>\n",
       "      <th>bathrooms</th>\n",
       "      <th>sqft_living</th>\n",
       "      <th>sqft_lot</th>\n",
       "      <th>floors</th>\n",
       "      <th>waterfront</th>\n",
       "      <th>view</th>\n",
       "      <th>...</th>\n",
       "      <th>grade</th>\n",
       "      <th>sqft_above</th>\n",
       "      <th>sqft_basement</th>\n",
       "      <th>yr_built</th>\n",
       "      <th>yr_renovated</th>\n",
       "      <th>zipcode</th>\n",
       "      <th>lat</th>\n",
       "      <th>long</th>\n",
       "      <th>sqft_living15</th>\n",
       "      <th>sqft_lot15</th>\n",
       "    </tr>\n",
       "  </thead>\n",
       "  <tbody>\n",
       "    <tr>\n",
       "      <th>93</th>\n",
       "      <td>6021501535</td>\n",
       "      <td>2014-10-08 12:00:00</td>\n",
       "      <td>565000.00</td>\n",
       "      <td>3</td>\n",
       "      <td>1.50</td>\n",
       "      <td>1580</td>\n",
       "      <td>5000</td>\n",
       "      <td>1.00</td>\n",
       "      <td>0</td>\n",
       "      <td>0</td>\n",
       "      <td>...</td>\n",
       "      <td>8</td>\n",
       "      <td>1290</td>\n",
       "      <td>290</td>\n",
       "      <td>1939</td>\n",
       "      <td>0</td>\n",
       "      <td>98117</td>\n",
       "      <td>47.69</td>\n",
       "      <td>-122.39</td>\n",
       "      <td>1570</td>\n",
       "      <td>4500</td>\n",
       "    </tr>\n",
       "  </tbody>\n",
       "</table>\n",
       "<p>1 rows × 21 columns</p>\n",
       "</div>"
      ],
      "text/plain": [
       "            id                date     price  bedrooms  bathrooms  \\\n",
       "93  6021501535 2014-10-08 12:00:00 565000.00         3       1.50   \n",
       "\n",
       "    sqft_living  sqft_lot  floors  waterfront  view  ...  grade  sqft_above  \\\n",
       "93         1580      5000    1.00           0     0  ...      8        1290   \n",
       "\n",
       "    sqft_basement  yr_built  yr_renovated  zipcode   lat    long  \\\n",
       "93            290      1939             0    98117 47.69 -122.39   \n",
       "\n",
       "    sqft_living15  sqft_lot15  \n",
       "93           1570        4500  \n",
       "\n",
       "[1 rows x 21 columns]"
      ]
     },
     "execution_count": 49,
     "metadata": {},
     "output_type": "execute_result"
    }
   ],
   "source": [
    "example_id = df_avg[df_avg['id'] == 6021501535]\n",
    "example_id"
   ]
  },
  {
   "cell_type": "markdown",
   "metadata": {},
   "source": [
    "THe same duplicate (id=6021501535) example in **df_latest**:"
   ]
  },
  {
   "cell_type": "code",
   "execution_count": 50,
   "metadata": {},
   "outputs": [
    {
     "data": {
      "text/html": [
       "<div>\n",
       "<style scoped>\n",
       "    .dataframe tbody tr th:only-of-type {\n",
       "        vertical-align: middle;\n",
       "    }\n",
       "\n",
       "    .dataframe tbody tr th {\n",
       "        vertical-align: top;\n",
       "    }\n",
       "\n",
       "    .dataframe thead th {\n",
       "        text-align: right;\n",
       "    }\n",
       "</style>\n",
       "<table border=\"1\" class=\"dataframe\">\n",
       "  <thead>\n",
       "    <tr style=\"text-align: right;\">\n",
       "      <th></th>\n",
       "      <th>id</th>\n",
       "      <th>date</th>\n",
       "      <th>price</th>\n",
       "      <th>bedrooms</th>\n",
       "      <th>bathrooms</th>\n",
       "      <th>sqft_living</th>\n",
       "      <th>sqft_lot</th>\n",
       "      <th>floors</th>\n",
       "      <th>waterfront</th>\n",
       "      <th>view</th>\n",
       "      <th>...</th>\n",
       "      <th>grade</th>\n",
       "      <th>sqft_above</th>\n",
       "      <th>sqft_basement</th>\n",
       "      <th>yr_built</th>\n",
       "      <th>yr_renovated</th>\n",
       "      <th>zipcode</th>\n",
       "      <th>lat</th>\n",
       "      <th>long</th>\n",
       "      <th>sqft_living15</th>\n",
       "      <th>sqft_lot15</th>\n",
       "    </tr>\n",
       "  </thead>\n",
       "  <tbody>\n",
       "    <tr>\n",
       "      <th>94</th>\n",
       "      <td>6021501535</td>\n",
       "      <td>2014-12-23</td>\n",
       "      <td>700000.00</td>\n",
       "      <td>3</td>\n",
       "      <td>1.50</td>\n",
       "      <td>1580</td>\n",
       "      <td>5000</td>\n",
       "      <td>1.00</td>\n",
       "      <td>0</td>\n",
       "      <td>0</td>\n",
       "      <td>...</td>\n",
       "      <td>8</td>\n",
       "      <td>1290</td>\n",
       "      <td>290</td>\n",
       "      <td>1939</td>\n",
       "      <td>0</td>\n",
       "      <td>98117</td>\n",
       "      <td>47.69</td>\n",
       "      <td>-122.39</td>\n",
       "      <td>1570</td>\n",
       "      <td>4500</td>\n",
       "    </tr>\n",
       "  </tbody>\n",
       "</table>\n",
       "<p>1 rows × 21 columns</p>\n",
       "</div>"
      ],
      "text/plain": [
       "            id       date     price  bedrooms  bathrooms  sqft_living  \\\n",
       "94  6021501535 2014-12-23 700000.00         3       1.50         1580   \n",
       "\n",
       "    sqft_lot  floors  waterfront  view  ...  grade  sqft_above  sqft_basement  \\\n",
       "94      5000    1.00           0     0  ...      8        1290            290   \n",
       "\n",
       "    yr_built  yr_renovated  zipcode   lat    long  sqft_living15  sqft_lot15  \n",
       "94      1939             0    98117 47.69 -122.39           1570        4500  \n",
       "\n",
       "[1 rows x 21 columns]"
      ]
     },
     "execution_count": 50,
     "metadata": {},
     "output_type": "execute_result"
    }
   ],
   "source": [
    "example_id = df_latest[df_latest['id'] == 6021501535]\n",
    "example_id"
   ]
  },
  {
   "cell_type": "code",
   "execution_count": 51,
   "metadata": {},
   "outputs": [
    {
     "name": "stdout",
     "output_type": "stream",
     "text": [
      "Number of rows in df:  21613\n",
      "Number of rows in df_avg:  21436\n",
      "Number of rows in df_latest:  21436\n"
     ]
    }
   ],
   "source": [
    "print('Number of rows in df: ', df.shape[0])\n",
    "print('Number of rows in df_avg: ', df_avg.shape[0])\n",
    "print('Number of rows in df_latest: ', df_latest.shape[0])"
   ]
  },
  {
   "cell_type": "markdown",
   "metadata": {},
   "source": [
    "After deduplication dataframe should have 21436 remaining rows."
   ]
  },
  {
   "cell_type": "markdown",
   "metadata": {},
   "source": [
    "#### price"
   ]
  },
  {
   "cell_type": "code",
   "execution_count": 52,
   "metadata": {},
   "outputs": [
    {
     "data": {
      "text/html": [
       "<div>\n",
       "<style scoped>\n",
       "    .dataframe tbody tr th:only-of-type {\n",
       "        vertical-align: middle;\n",
       "    }\n",
       "\n",
       "    .dataframe tbody tr th {\n",
       "        vertical-align: top;\n",
       "    }\n",
       "\n",
       "    .dataframe thead th {\n",
       "        text-align: right;\n",
       "    }\n",
       "</style>\n",
       "<table border=\"1\" class=\"dataframe\">\n",
       "  <thead>\n",
       "    <tr style=\"text-align: right;\">\n",
       "      <th></th>\n",
       "      <th>price</th>\n",
       "      <th>bathrooms</th>\n",
       "      <th>floors</th>\n",
       "      <th>lat</th>\n",
       "      <th>long</th>\n",
       "    </tr>\n",
       "  </thead>\n",
       "  <tbody>\n",
       "    <tr>\n",
       "      <th>count</th>\n",
       "      <td>21613.00</td>\n",
       "      <td>21613.00</td>\n",
       "      <td>21613.00</td>\n",
       "      <td>21613.00</td>\n",
       "      <td>21613.00</td>\n",
       "    </tr>\n",
       "    <tr>\n",
       "      <th>mean</th>\n",
       "      <td>540088.14</td>\n",
       "      <td>2.11</td>\n",
       "      <td>1.49</td>\n",
       "      <td>47.56</td>\n",
       "      <td>-122.21</td>\n",
       "    </tr>\n",
       "    <tr>\n",
       "      <th>std</th>\n",
       "      <td>367127.20</td>\n",
       "      <td>0.77</td>\n",
       "      <td>0.54</td>\n",
       "      <td>0.14</td>\n",
       "      <td>0.14</td>\n",
       "    </tr>\n",
       "    <tr>\n",
       "      <th>min</th>\n",
       "      <td>75000.00</td>\n",
       "      <td>0.00</td>\n",
       "      <td>1.00</td>\n",
       "      <td>47.16</td>\n",
       "      <td>-122.52</td>\n",
       "    </tr>\n",
       "    <tr>\n",
       "      <th>25%</th>\n",
       "      <td>321950.00</td>\n",
       "      <td>1.75</td>\n",
       "      <td>1.00</td>\n",
       "      <td>47.47</td>\n",
       "      <td>-122.33</td>\n",
       "    </tr>\n",
       "    <tr>\n",
       "      <th>50%</th>\n",
       "      <td>450000.00</td>\n",
       "      <td>2.25</td>\n",
       "      <td>1.50</td>\n",
       "      <td>47.57</td>\n",
       "      <td>-122.23</td>\n",
       "    </tr>\n",
       "    <tr>\n",
       "      <th>75%</th>\n",
       "      <td>645000.00</td>\n",
       "      <td>2.50</td>\n",
       "      <td>2.00</td>\n",
       "      <td>47.68</td>\n",
       "      <td>-122.12</td>\n",
       "    </tr>\n",
       "    <tr>\n",
       "      <th>max</th>\n",
       "      <td>7700000.00</td>\n",
       "      <td>8.00</td>\n",
       "      <td>3.50</td>\n",
       "      <td>47.78</td>\n",
       "      <td>-121.31</td>\n",
       "    </tr>\n",
       "  </tbody>\n",
       "</table>\n",
       "</div>"
      ],
      "text/plain": [
       "           price  bathrooms   floors      lat     long\n",
       "count   21613.00   21613.00 21613.00 21613.00 21613.00\n",
       "mean   540088.14       2.11     1.49    47.56  -122.21\n",
       "std    367127.20       0.77     0.54     0.14     0.14\n",
       "min     75000.00       0.00     1.00    47.16  -122.52\n",
       "25%    321950.00       1.75     1.00    47.47  -122.33\n",
       "50%    450000.00       2.25     1.50    47.57  -122.23\n",
       "75%    645000.00       2.50     2.00    47.68  -122.12\n",
       "max   7700000.00       8.00     3.50    47.78  -121.31"
      ]
     },
     "execution_count": 52,
     "metadata": {},
     "output_type": "execute_result"
    }
   ],
   "source": [
    "df.describe(include='float64')"
   ]
  },
  {
   "cell_type": "markdown",
   "metadata": {},
   "source": [
    "Checking if there are any price values where the decimal part is not equal to 0:"
   ]
  },
  {
   "cell_type": "code",
   "execution_count": 53,
   "metadata": {},
   "outputs": [
    {
     "name": "stdout",
     "output_type": "stream",
     "text": [
      "Series([], Name: price, dtype: float64)\n"
     ]
    }
   ],
   "source": [
    "prices_with_nonzero_decimal = df[df['price'].astype(str).str.contains(r'\\.\\d*[1-9]')]\n",
    "print(prices_with_nonzero_decimal['price'])"
   ]
  },
  {
   "cell_type": "markdown",
   "metadata": {},
   "source": [
    "The price column is our target variable. To enhance readability, we'll convert the column to integer.  \n",
    "  \n",
    "Additionally, we'll adjust pandas display option **to handle scientific notation**:\n",
    "  \n",
    "- `pd.set_option('display.float_format', lambda x: '%.2f' % x)` sets the display format for floating-point numbers to two decimal places.  \n",
    "  \n",
    "- `pd.reset_option('display.float_format')` resets the display format option.\n"
   ]
  },
  {
   "cell_type": "code",
   "execution_count": 54,
   "metadata": {},
   "outputs": [],
   "source": [
    "pd.set_option('display.float_format', lambda x: '%.2f' % x)\n",
    "df['price'] = df['price'].astype(int)"
   ]
  },
  {
   "cell_type": "markdown",
   "metadata": {},
   "source": [
    "Now we can see the price statistics in more readable format:"
   ]
  },
  {
   "cell_type": "code",
   "execution_count": 55,
   "metadata": {},
   "outputs": [
    {
     "data": {
      "text/html": [
       "<div>\n",
       "<style scoped>\n",
       "    .dataframe tbody tr th:only-of-type {\n",
       "        vertical-align: middle;\n",
       "    }\n",
       "\n",
       "    .dataframe tbody tr th {\n",
       "        vertical-align: top;\n",
       "    }\n",
       "\n",
       "    .dataframe thead th {\n",
       "        text-align: right;\n",
       "    }\n",
       "</style>\n",
       "<table border=\"1\" class=\"dataframe\">\n",
       "  <thead>\n",
       "    <tr style=\"text-align: right;\">\n",
       "      <th></th>\n",
       "      <th>price</th>\n",
       "    </tr>\n",
       "  </thead>\n",
       "  <tbody>\n",
       "    <tr>\n",
       "      <th>count</th>\n",
       "      <td>21613.00</td>\n",
       "    </tr>\n",
       "    <tr>\n",
       "      <th>mean</th>\n",
       "      <td>540088.14</td>\n",
       "    </tr>\n",
       "    <tr>\n",
       "      <th>std</th>\n",
       "      <td>367127.20</td>\n",
       "    </tr>\n",
       "    <tr>\n",
       "      <th>min</th>\n",
       "      <td>75000.00</td>\n",
       "    </tr>\n",
       "    <tr>\n",
       "      <th>25%</th>\n",
       "      <td>321950.00</td>\n",
       "    </tr>\n",
       "    <tr>\n",
       "      <th>50%</th>\n",
       "      <td>450000.00</td>\n",
       "    </tr>\n",
       "    <tr>\n",
       "      <th>75%</th>\n",
       "      <td>645000.00</td>\n",
       "    </tr>\n",
       "    <tr>\n",
       "      <th>max</th>\n",
       "      <td>7700000.00</td>\n",
       "    </tr>\n",
       "  </tbody>\n",
       "</table>\n",
       "</div>"
      ],
      "text/plain": [
       "           price\n",
       "count   21613.00\n",
       "mean   540088.14\n",
       "std    367127.20\n",
       "min     75000.00\n",
       "25%    321950.00\n",
       "50%    450000.00\n",
       "75%    645000.00\n",
       "max   7700000.00"
      ]
     },
     "execution_count": 55,
     "metadata": {},
     "output_type": "execute_result"
    }
   ],
   "source": [
    "df.describe(include='int32')"
   ]
  },
  {
   "cell_type": "markdown",
   "metadata": {},
   "source": [
    "The minimum price is **75'000**, the maximum price is **7'700'000**.  \n",
    "The average price of properties is approximately **540'088**.  \n",
    "The median price, or the midpoint of the dataset, is **450'000**."
   ]
  },
  {
   "cell_type": "code",
   "execution_count": 56,
   "metadata": {},
   "outputs": [
    {
     "data": {
      "image/png": "[encoded data removed]",
      "text/plain": [
       "<Figure size 600x600 with 1 Axes>"
      ]
     },
     "metadata": {},
     "output_type": "display_data"
    }
   ],
   "source": [
    "boxplot(df['price'], 'Price')"
   ]
  },
  {
   "cell_type": "markdown",
   "metadata": {
    "jp-MarkdownHeadingCollapsed": true
   },
   "source": [
    "##### Calculating boxplot whiskers"
   ]
  },
  {
   "cell_type": "markdown",
   "metadata": {},
   "source": [
    "Above is a modified box plot where the whiskers extend from the the box to the adjacent values. The adjacent values are defined as the lowest and highest observations that are still inside the region defined by the following limits:  \n",
    "$$ Q1 - 1.5 \\times \\text{IQR} $$  \n",
    "  \n",
    "$$ Q3 + 1.5 \\times \\text{IQR} $$  \n",
    "  \n",
    "$$ \\text{IQR (Interquartile range)} = Q3 - Q1 $$\n",
    "\n",
    "$ \\text{Q1 (First Quartile)} $: value that separates the lowest 25% of the data from the remaining 75%. Mathematically, it's the median of the lower half of the dataset (calculating from the median of the dataset).  \n",
    "\n",
    "$ \\text{Q3 (Third Quartile)} $: value that separates the lowest 75% of the data from the highest 25%. Mathematically, it's the median of the upper half of the dataset.  \n",
    "  \n",
    "  \n",
    "Functions for calculating the upper and lower whisker limits are defined as upper_whisker(data) and lower_whisker(data) where data example is *df['price']*:"
   ]
  },
  {
   "cell_type": "code",
   "execution_count": 57,
   "metadata": {},
   "outputs": [
    {
     "name": "stdout",
     "output_type": "stream",
     "text": [
      "Upper whisker in price box plot is:  1129575.0\n"
     ]
    }
   ],
   "source": [
    "print('Upper whisker in price box plot is: ', upper_whisker(df['price']))"
   ]
  },
  {
   "cell_type": "markdown",
   "metadata": {},
   "source": [
    "##### Boxplots of deduplicated dataframes:"
   ]
  },
  {
   "cell_type": "markdown",
   "metadata": {},
   "source": [
    "**df_latest**:"
   ]
  },
  {
   "cell_type": "code",
   "execution_count": 58,
   "metadata": {},
   "outputs": [
    {
     "name": "stdout",
     "output_type": "stream",
     "text": [
      "df_latest:\n",
      "Min price is:  75000.0\n",
      "Max price is:  7700000.0\n",
      "Median price is:  450000.0\n",
      "Average price is:  541650.0\n",
      "Lower whisker in price box plot is:  -155335.0\n",
      "Upper whisker in price box plot is:  1125201.0\n"
     ]
    },
    {
     "data": {
      "image/png": "[encoded data removed]",
      "text/plain": [
       "<Figure size 600x600 with 1 Axes>"
      ]
     },
     "metadata": {},
     "output_type": "display_data"
    }
   ],
   "source": [
    "print('df_latest:')\n",
    "print('Min price is: ', df_latest['price'].min())\n",
    "print('Max price is: ', df_latest['price'].max())\n",
    "print('Median price is: ', df_latest['price'].median())\n",
    "print('Average price is: ', round(df_latest['price'].mean(), 1))\n",
    "print('Lower whisker in price box plot is: ', round(lower_whisker(df_latest['price']), 1))\n",
    "print('Upper whisker in price box plot is: ', round(upper_whisker(df_latest['price']), 1))\n",
    "boxplot(df_latest['price'], 'Price', title='df_latest')"
   ]
  },
  {
   "cell_type": "markdown",
   "metadata": {},
   "source": [
    "**df_avg**:"
   ]
  },
  {
   "cell_type": "code",
   "execution_count": 59,
   "metadata": {},
   "outputs": [
    {
     "name": "stdout",
     "output_type": "stream",
     "text": [
      "df_avg:\n",
      "Min price is:  132000.0\n",
      "Max price is:  1917500.0\n",
      "Median price is:  347250.0\n",
      "Average price is:  420453.5\n",
      "Lower whisker in price box plot is:  -132240.6\n",
      "Upper whisker in price box plot is:  878734.4\n"
     ]
    },
    {
     "data": {
      "image/png": "[encoded data removed]",
      "text/plain": [
       "<Figure size 600x600 with 1 Axes>"
      ]
     },
     "metadata": {},
     "output_type": "display_data"
    }
   ],
   "source": [
    "print('df_avg:')\n",
    "print('Min price is: ', df_avg['price'].min())\n",
    "print('Max price is: ', df_avg['price'].max())\n",
    "print('Median price is: ', df_avg['price'].median())\n",
    "print('Average price is: ', round(df_avg['price'].mean(), 1))\n",
    "print('Lower whisker in price box plot is: ', round(lower_whisker(df_avg['price']), 1))\n",
    "print('Upper whisker in price box plot is: ', round(upper_whisker(df_avg['price']), 1))\n",
    "boxplot(df_avg['price'], 'Price', title='df_avg')"
   ]
  },
  {
   "cell_type": "markdown",
   "metadata": {},
   "source": [
    "df_avg has less outliers and the price range is smaller."
   ]
  },
  {
   "cell_type": "markdown",
   "metadata": {},
   "source": [
    "##### Price data distribution excluding outliers"
   ]
  },
  {
   "cell_type": "markdown",
   "metadata": {},
   "source": [
    "Home sale prices between May 2014 and May 2015 in the King County area, Washington State that are above *$1'129'575* are considered outliers.  \n",
    "... or *1'125'201* in deduplicated df_latest,  \n",
    "... or *878'734* in deduplicated df_avg"
   ]
  },
  {
   "cell_type": "code",
   "execution_count": 60,
   "metadata": {},
   "outputs": [
    {
     "data": {
      "image/png": "[encoded data removed]",
      "text/plain": [
       "<Figure size 600x400 with 1 Axes>"
      ]
     },
     "metadata": {},
     "output_type": "display_data"
    }
   ],
   "source": [
    "df_price_without_outliers = df[df['price'] <= upper_whisker(df['price'])]\n",
    "histogram(df_price_without_outliers['price'], 15, 'Price', 'Right-skewed', figsize=(6, 4), xticksrotation=-90, skewness=(0.75, 0.8), kurtosis=(0.75, 0.73), median=True, legend=True)"
   ]
  },
  {
   "cell_type": "markdown",
   "metadata": {
    "jp-MarkdownHeadingCollapsed": true
   },
   "source": [
    "**The price data distribution is right-skewed.**  \n",
    "    \n",
    "**Skewness**: The positive value indicates that the distribution is skewed towards the right side (peak to the left). The degree of asymmetry 0.75 is moderately skewed, indicating a noticeable but not extreme departure from symmetry. (\"A value of skewness within the range +2 to −2 is considered acceptable for common statistical tests.\") There are more lower-priced properties in the dataset, with relatively fewer properties having higher prices.\n",
    "  \n",
    "**Kurtosis**: The value of -0.0 for the price data distribution indicates a ***platykurtic distribution*** (kurt < 0). This means that the distribution has fewer extreme values (outliers) and is less peaked around the mean compared to a normal distribution. A kurtosis value of -0.0 suggests a very mild departure from the normal distribution in terms of peakedness and tail heaviness. **The distribution is close to being symmetrical**. \n",
    "\n",
    "---\n",
    "\n",
    "Reference:\n",
    "- Source: [ScienceDirect](https://www.sciencedirect.com/topics/social-sciences/skewness)\n",
    "- Source: [Ben's Blog](https://datakuity.com/2021/08/24/skewness-kurtosis-powerbi-dax/)"
   ]
  },
  {
   "cell_type": "markdown",
   "metadata": {},
   "source": [
    "Data distribution with deduplicated dataframes:"
   ]
  },
  {
   "cell_type": "code",
   "execution_count": 61,
   "metadata": {},
   "outputs": [
    {
     "data": {
      "image/png": "[encoded data removed]",
      "text/plain": [
       "<Figure size 600x400 with 1 Axes>"
      ]
     },
     "metadata": {},
     "output_type": "display_data"
    }
   ],
   "source": [
    "df_price_without_outliers = df_latest[df_latest['price'] <= upper_whisker(df_latest['price'])]\n",
    "histogram(df_price_without_outliers['price'], 15, 'Price', 'df_latest', figsize=(6, 4), xticksrotation=-90, skewness=(0.75, 0.8), kurtosis=(0.75, 0.73), median=True, legend=True)"
   ]
  },
  {
   "cell_type": "code",
   "execution_count": null,
   "metadata": {},
   "outputs": [],
   "source": [
    "df_price_without_outliers = df_avg[df_avg['price'] <= upper_whisker(df_avg['price'])]\n",
    "histogram(df_price_without_outliers['price'], 15, 'Price', 'df_avg', figsize=(6, 4), xticksrotation=-90, skewness=(0.75, 0.8), kurtosis=(0.75, 0.73), median=True, legend=True)"
   ]
  },
  {
   "cell_type": "markdown",
   "metadata": {},
   "source": [
    "Both df_latest and df_avg have similar skewness values (0.75 and 0.80, respectively), indicating a moderate right skew.  \n",
    "  \n",
    "Kurtosis: df_latest has a slightly lower kurtosis value (-0.01) compared to the original df (-0.00), while df_avg has a significantly higher kurtosis value (0.09). A positive kurtosis value suggests a ***leptokurtic distribution*** (Kurt > 0) that is more peaked. Therefore, df_latest has a distribution closer to a normal in terms of peakedness."
   ]
  },
  {
   "cell_type": "markdown",
   "metadata": {},
   "source": [
    "For further analysis we will use df_avg dataframe."
   ]
  },
  {
   "cell_type": "code",
   "execution_count": 62,
   "metadata": {},
   "outputs": [],
   "source": [
    "df = df_avg"
   ]
  },
  {
   "cell_type": "markdown",
   "metadata": {},
   "source": [
    "#### sqft_living | sqft_above | sqft_basement\n",
    "\n",
    "Square footage of living space ('sqft_living') is always equal to the sum of the square footage of the habitable space above ground ('sqft_above') and the square footage of the habitable space below ground ('sqft_basement')."
   ]
  },
  {
   "cell_type": "code",
   "execution_count": 63,
   "metadata": {},
   "outputs": [
    {
     "data": {
      "text/html": [
       "<div>\n",
       "<style scoped>\n",
       "    .dataframe tbody tr th:only-of-type {\n",
       "        vertical-align: middle;\n",
       "    }\n",
       "\n",
       "    .dataframe tbody tr th {\n",
       "        vertical-align: top;\n",
       "    }\n",
       "\n",
       "    .dataframe thead th {\n",
       "        text-align: right;\n",
       "    }\n",
       "</style>\n",
       "<table border=\"1\" class=\"dataframe\">\n",
       "  <thead>\n",
       "    <tr style=\"text-align: right;\">\n",
       "      <th></th>\n",
       "      <th>id</th>\n",
       "      <th>bedrooms</th>\n",
       "      <th>sqft_living</th>\n",
       "      <th>sqft_lot</th>\n",
       "      <th>waterfront</th>\n",
       "      <th>view</th>\n",
       "      <th>condition</th>\n",
       "      <th>grade</th>\n",
       "      <th>sqft_above</th>\n",
       "      <th>sqft_basement</th>\n",
       "      <th>yr_built</th>\n",
       "      <th>yr_renovated</th>\n",
       "      <th>zipcode</th>\n",
       "      <th>sqft_living15</th>\n",
       "      <th>sqft_lot15</th>\n",
       "    </tr>\n",
       "  </thead>\n",
       "  <tbody>\n",
       "    <tr>\n",
       "      <th>count</th>\n",
       "      <td>21436.00</td>\n",
       "      <td>21436.00</td>\n",
       "      <td>21436.00</td>\n",
       "      <td>21436.00</td>\n",
       "      <td>21436.00</td>\n",
       "      <td>21436.00</td>\n",
       "      <td>21436.00</td>\n",
       "      <td>21436.00</td>\n",
       "      <td>21436.00</td>\n",
       "      <td>21436.00</td>\n",
       "      <td>21436.00</td>\n",
       "      <td>21436.00</td>\n",
       "      <td>21436.00</td>\n",
       "      <td>21436.00</td>\n",
       "      <td>21436.00</td>\n",
       "    </tr>\n",
       "    <tr>\n",
       "      <th>mean</th>\n",
       "      <td>4580765328.18</td>\n",
       "      <td>3.37</td>\n",
       "      <td>2082.70</td>\n",
       "      <td>15135.64</td>\n",
       "      <td>0.01</td>\n",
       "      <td>0.24</td>\n",
       "      <td>3.41</td>\n",
       "      <td>7.66</td>\n",
       "      <td>1790.96</td>\n",
       "      <td>291.74</td>\n",
       "      <td>1971.10</td>\n",
       "      <td>84.73</td>\n",
       "      <td>98077.86</td>\n",
       "      <td>1988.31</td>\n",
       "      <td>12785.96</td>\n",
       "    </tr>\n",
       "    <tr>\n",
       "      <th>std</th>\n",
       "      <td>2876589633.67</td>\n",
       "      <td>0.93</td>\n",
       "      <td>919.15</td>\n",
       "      <td>41538.62</td>\n",
       "      <td>0.09</td>\n",
       "      <td>0.77</td>\n",
       "      <td>0.65</td>\n",
       "      <td>1.17</td>\n",
       "      <td>829.03</td>\n",
       "      <td>442.78</td>\n",
       "      <td>29.39</td>\n",
       "      <td>402.43</td>\n",
       "      <td>53.47</td>\n",
       "      <td>685.70</td>\n",
       "      <td>27375.47</td>\n",
       "    </tr>\n",
       "    <tr>\n",
       "      <th>min</th>\n",
       "      <td>1000102.00</td>\n",
       "      <td>0.00</td>\n",
       "      <td>290.00</td>\n",
       "      <td>520.00</td>\n",
       "      <td>0.00</td>\n",
       "      <td>0.00</td>\n",
       "      <td>1.00</td>\n",
       "      <td>1.00</td>\n",
       "      <td>290.00</td>\n",
       "      <td>0.00</td>\n",
       "      <td>1900.00</td>\n",
       "      <td>0.00</td>\n",
       "      <td>98001.00</td>\n",
       "      <td>399.00</td>\n",
       "      <td>651.00</td>\n",
       "    </tr>\n",
       "    <tr>\n",
       "      <th>25%</th>\n",
       "      <td>2123700078.75</td>\n",
       "      <td>3.00</td>\n",
       "      <td>1430.00</td>\n",
       "      <td>5040.00</td>\n",
       "      <td>0.00</td>\n",
       "      <td>0.00</td>\n",
       "      <td>3.00</td>\n",
       "      <td>7.00</td>\n",
       "      <td>1200.00</td>\n",
       "      <td>0.00</td>\n",
       "      <td>1952.00</td>\n",
       "      <td>0.00</td>\n",
       "      <td>98033.00</td>\n",
       "      <td>1490.00</td>\n",
       "      <td>5100.00</td>\n",
       "    </tr>\n",
       "    <tr>\n",
       "      <th>50%</th>\n",
       "      <td>3904921185.00</td>\n",
       "      <td>3.00</td>\n",
       "      <td>1920.00</td>\n",
       "      <td>7614.00</td>\n",
       "      <td>0.00</td>\n",
       "      <td>0.00</td>\n",
       "      <td>3.00</td>\n",
       "      <td>7.00</td>\n",
       "      <td>1560.00</td>\n",
       "      <td>0.00</td>\n",
       "      <td>1975.00</td>\n",
       "      <td>0.00</td>\n",
       "      <td>98065.00</td>\n",
       "      <td>1840.00</td>\n",
       "      <td>7620.00</td>\n",
       "    </tr>\n",
       "    <tr>\n",
       "      <th>75%</th>\n",
       "      <td>7308675062.50</td>\n",
       "      <td>4.00</td>\n",
       "      <td>2550.00</td>\n",
       "      <td>10696.25</td>\n",
       "      <td>0.00</td>\n",
       "      <td>0.00</td>\n",
       "      <td>4.00</td>\n",
       "      <td>8.00</td>\n",
       "      <td>2220.00</td>\n",
       "      <td>560.00</td>\n",
       "      <td>1997.00</td>\n",
       "      <td>0.00</td>\n",
       "      <td>98117.00</td>\n",
       "      <td>2370.00</td>\n",
       "      <td>10087.25</td>\n",
       "    </tr>\n",
       "    <tr>\n",
       "      <th>max</th>\n",
       "      <td>9900000190.00</td>\n",
       "      <td>33.00</td>\n",
       "      <td>13540.00</td>\n",
       "      <td>1651359.00</td>\n",
       "      <td>1.00</td>\n",
       "      <td>4.00</td>\n",
       "      <td>5.00</td>\n",
       "      <td>13.00</td>\n",
       "      <td>9410.00</td>\n",
       "      <td>4820.00</td>\n",
       "      <td>2015.00</td>\n",
       "      <td>2015.00</td>\n",
       "      <td>98199.00</td>\n",
       "      <td>6210.00</td>\n",
       "      <td>871200.00</td>\n",
       "    </tr>\n",
       "  </tbody>\n",
       "</table>\n",
       "</div>"
      ],
      "text/plain": [
       "                 id  bedrooms  sqft_living   sqft_lot  waterfront     view  \\\n",
       "count      21436.00  21436.00     21436.00   21436.00    21436.00 21436.00   \n",
       "mean  4580765328.18      3.37      2082.70   15135.64        0.01     0.24   \n",
       "std   2876589633.67      0.93       919.15   41538.62        0.09     0.77   \n",
       "min      1000102.00      0.00       290.00     520.00        0.00     0.00   \n",
       "25%   2123700078.75      3.00      1430.00    5040.00        0.00     0.00   \n",
       "50%   3904921185.00      3.00      1920.00    7614.00        0.00     0.00   \n",
       "75%   7308675062.50      4.00      2550.00   10696.25        0.00     0.00   \n",
       "max   9900000190.00     33.00     13540.00 1651359.00        1.00     4.00   \n",
       "\n",
       "       condition    grade  sqft_above  sqft_basement  yr_built  yr_renovated  \\\n",
       "count   21436.00 21436.00    21436.00       21436.00  21436.00      21436.00   \n",
       "mean        3.41     7.66     1790.96         291.74   1971.10         84.73   \n",
       "std         0.65     1.17      829.03         442.78     29.39        402.43   \n",
       "min         1.00     1.00      290.00           0.00   1900.00          0.00   \n",
       "25%         3.00     7.00     1200.00           0.00   1952.00          0.00   \n",
       "50%         3.00     7.00     1560.00           0.00   1975.00          0.00   \n",
       "75%         4.00     8.00     2220.00         560.00   1997.00          0.00   \n",
       "max         5.00    13.00     9410.00        4820.00   2015.00       2015.00   \n",
       "\n",
       "       zipcode  sqft_living15  sqft_lot15  \n",
       "count 21436.00       21436.00    21436.00  \n",
       "mean  98077.86        1988.31    12785.96  \n",
       "std      53.47         685.70    27375.47  \n",
       "min   98001.00         399.00      651.00  \n",
       "25%   98033.00        1490.00     5100.00  \n",
       "50%   98065.00        1840.00     7620.00  \n",
       "75%   98117.00        2370.00    10087.25  \n",
       "max   98199.00        6210.00   871200.00  "
      ]
     },
     "execution_count": 63,
     "metadata": {},
     "output_type": "execute_result"
    }
   ],
   "source": [
    "df.describe(include='int64')"
   ]
  },
  {
   "cell_type": "code",
   "execution_count": 64,
   "metadata": {},
   "outputs": [
    {
     "data": {
      "text/html": [
       "<div>\n",
       "<style scoped>\n",
       "    .dataframe tbody tr th:only-of-type {\n",
       "        vertical-align: middle;\n",
       "    }\n",
       "\n",
       "    .dataframe tbody tr th {\n",
       "        vertical-align: top;\n",
       "    }\n",
       "\n",
       "    .dataframe thead th {\n",
       "        text-align: right;\n",
       "    }\n",
       "</style>\n",
       "<table border=\"1\" class=\"dataframe\">\n",
       "  <thead>\n",
       "    <tr style=\"text-align: right;\">\n",
       "      <th></th>\n",
       "      <th>id</th>\n",
       "      <th>date</th>\n",
       "      <th>price</th>\n",
       "      <th>bedrooms</th>\n",
       "      <th>bathrooms</th>\n",
       "      <th>sqft_living</th>\n",
       "      <th>sqft_lot</th>\n",
       "      <th>floors</th>\n",
       "      <th>waterfront</th>\n",
       "      <th>view</th>\n",
       "      <th>...</th>\n",
       "      <th>grade</th>\n",
       "      <th>sqft_above</th>\n",
       "      <th>sqft_basement</th>\n",
       "      <th>yr_built</th>\n",
       "      <th>yr_renovated</th>\n",
       "      <th>zipcode</th>\n",
       "      <th>lat</th>\n",
       "      <th>long</th>\n",
       "      <th>sqft_living15</th>\n",
       "      <th>sqft_lot15</th>\n",
       "    </tr>\n",
       "  </thead>\n",
       "  <tbody>\n",
       "  </tbody>\n",
       "</table>\n",
       "<p>0 rows × 21 columns</p>\n",
       "</div>"
      ],
      "text/plain": [
       "Empty DataFrame\n",
       "Columns: [id, date, price, bedrooms, bathrooms, sqft_living, sqft_lot, floors, waterfront, view, condition, grade, sqft_above, sqft_basement, yr_built, yr_renovated, zipcode, lat, long, sqft_living15, sqft_lot15]\n",
       "Index: []\n",
       "\n",
       "[0 rows x 21 columns]"
      ]
     },
     "execution_count": 64,
     "metadata": {},
     "output_type": "execute_result"
    }
   ],
   "source": [
    "mismatched_rows = df[df['sqft_living'] != df['sqft_above'] + df['sqft_basement']]\n",
    "mismatched_rows"
   ]
  }
 ],
 "metadata": {
  "kernelspec": {
   "display_name": "Python 3 (ipykernel)",
   "language": "python",
   "name": "python3"
  },
  "language_info": {
   "codemirror_mode": {
    "name": "ipython",
    "version": 3
   },
   "file_extension": ".py",
   "mimetype": "text/x-python",
   "name": "python",
   "nbconvert_exporter": "python",
   "pygments_lexer": "ipython3",
   "version": "3.12.0"
  }
 },
 "nbformat": 4,
 "nbformat_minor": 4
}
