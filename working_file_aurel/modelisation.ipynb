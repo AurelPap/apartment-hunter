{
 "cells": [
  {
   "cell_type": "code",
   "execution_count": 1,
   "metadata": {},
   "outputs": [],
   "source": [
    "import math\n",
    "import pandas as pd\n",
    "import matplotlib.pyplot as plt\n",
    "import plotly.express as px\n",
    "import seaborn as sns\n",
    "import numpy as np\n",
    "import warnings\n",
    "from sklearn import linear_model\n",
    "from sklearn.linear_model import Ridge\n",
    "from sklearn.svm import SVR\n",
    "from sklearn.linear_model import ElasticNet\n",
    "from sklearn.ensemble import RandomForestRegressor\n",
    "from sklearn.linear_model import LinearRegression\n",
    "from sklearn.preprocessing import PolynomialFeatures"
   ]
  },
  {
   "cell_type": "code",
   "execution_count": 2,
   "metadata": {},
   "outputs": [],
   "source": [
    "df = pd.read_csv(\"..\\\\dataset_machine_learning.csv\")"
   ]
  },
  {
   "cell_type": "code",
   "execution_count": 3,
   "metadata": {},
   "outputs": [
    {
     "data": {
      "text/html": [
       "<div>\n",
       "<style scoped>\n",
       "    .dataframe tbody tr th:only-of-type {\n",
       "        vertical-align: middle;\n",
       "    }\n",
       "\n",
       "    .dataframe tbody tr th {\n",
       "        vertical-align: top;\n",
       "    }\n",
       "\n",
       "    .dataframe thead th {\n",
       "        text-align: right;\n",
       "    }\n",
       "</style>\n",
       "<table border=\"1\" class=\"dataframe\">\n",
       "  <thead>\n",
       "    <tr style=\"text-align: right;\">\n",
       "      <th></th>\n",
       "      <th>date</th>\n",
       "      <th>price</th>\n",
       "      <th>bedrooms</th>\n",
       "      <th>bathrooms</th>\n",
       "      <th>sqm_living</th>\n",
       "      <th>sqm_lot</th>\n",
       "      <th>floors</th>\n",
       "      <th>waterfront</th>\n",
       "      <th>view</th>\n",
       "      <th>condition</th>\n",
       "      <th>grade</th>\n",
       "      <th>yr_built</th>\n",
       "      <th>renovated</th>\n",
       "      <th>yr_renovated</th>\n",
       "      <th>zipcode</th>\n",
       "      <th>city_encoded</th>\n",
       "      <th>lat</th>\n",
       "      <th>long</th>\n",
       "      <th>sqm_living15</th>\n",
       "      <th>sqm_lot15</th>\n",
       "    </tr>\n",
       "  </thead>\n",
       "  <tbody>\n",
       "    <tr>\n",
       "      <th>0</th>\n",
       "      <td>0</td>\n",
       "      <td>790000</td>\n",
       "      <td>3</td>\n",
       "      <td>2.50</td>\n",
       "      <td>241.55</td>\n",
       "      <td>441.29</td>\n",
       "      <td>1.0</td>\n",
       "      <td>False</td>\n",
       "      <td>0</td>\n",
       "      <td>4</td>\n",
       "      <td>9</td>\n",
       "      <td>1951</td>\n",
       "      <td>False</td>\n",
       "      <td>1951</td>\n",
       "      <td>98117</td>\n",
       "      <td>11</td>\n",
       "      <td>47.6833</td>\n",
       "      <td>-122.400</td>\n",
       "      <td>221.11</td>\n",
       "      <td>441.29</td>\n",
       "    </tr>\n",
       "    <tr>\n",
       "      <th>1</th>\n",
       "      <td>0</td>\n",
       "      <td>555000</td>\n",
       "      <td>4</td>\n",
       "      <td>2.50</td>\n",
       "      <td>307.51</td>\n",
       "      <td>603.87</td>\n",
       "      <td>2.0</td>\n",
       "      <td>False</td>\n",
       "      <td>0</td>\n",
       "      <td>3</td>\n",
       "      <td>8</td>\n",
       "      <td>2012</td>\n",
       "      <td>False</td>\n",
       "      <td>2012</td>\n",
       "      <td>98065</td>\n",
       "      <td>15</td>\n",
       "      <td>47.5150</td>\n",
       "      <td>-121.870</td>\n",
       "      <td>221.11</td>\n",
       "      <td>464.52</td>\n",
       "    </tr>\n",
       "    <tr>\n",
       "      <th>2</th>\n",
       "      <td>0</td>\n",
       "      <td>440000</td>\n",
       "      <td>4</td>\n",
       "      <td>2.25</td>\n",
       "      <td>200.67</td>\n",
       "      <td>754.28</td>\n",
       "      <td>1.0</td>\n",
       "      <td>False</td>\n",
       "      <td>0</td>\n",
       "      <td>3</td>\n",
       "      <td>8</td>\n",
       "      <td>1966</td>\n",
       "      <td>False</td>\n",
       "      <td>1966</td>\n",
       "      <td>98006</td>\n",
       "      <td>21</td>\n",
       "      <td>47.5443</td>\n",
       "      <td>-122.177</td>\n",
       "      <td>171.87</td>\n",
       "      <td>836.13</td>\n",
       "    </tr>\n",
       "    <tr>\n",
       "      <th>3</th>\n",
       "      <td>0</td>\n",
       "      <td>295000</td>\n",
       "      <td>2</td>\n",
       "      <td>2.50</td>\n",
       "      <td>151.43</td>\n",
       "      <td>127.09</td>\n",
       "      <td>2.0</td>\n",
       "      <td>False</td>\n",
       "      <td>0</td>\n",
       "      <td>3</td>\n",
       "      <td>7</td>\n",
       "      <td>2009</td>\n",
       "      <td>False</td>\n",
       "      <td>2009</td>\n",
       "      <td>98106</td>\n",
       "      <td>11</td>\n",
       "      <td>47.5489</td>\n",
       "      <td>-122.363</td>\n",
       "      <td>147.72</td>\n",
       "      <td>214.23</td>\n",
       "    </tr>\n",
       "    <tr>\n",
       "      <th>4</th>\n",
       "      <td>0</td>\n",
       "      <td>470000</td>\n",
       "      <td>5</td>\n",
       "      <td>2.50</td>\n",
       "      <td>205.32</td>\n",
       "      <td>896.98</td>\n",
       "      <td>1.0</td>\n",
       "      <td>False</td>\n",
       "      <td>0</td>\n",
       "      <td>3</td>\n",
       "      <td>8</td>\n",
       "      <td>1976</td>\n",
       "      <td>False</td>\n",
       "      <td>1976</td>\n",
       "      <td>98011</td>\n",
       "      <td>14</td>\n",
       "      <td>47.7698</td>\n",
       "      <td>-122.222</td>\n",
       "      <td>193.24</td>\n",
       "      <td>802.03</td>\n",
       "    </tr>\n",
       "    <tr>\n",
       "      <th>...</th>\n",
       "      <td>...</td>\n",
       "      <td>...</td>\n",
       "      <td>...</td>\n",
       "      <td>...</td>\n",
       "      <td>...</td>\n",
       "      <td>...</td>\n",
       "      <td>...</td>\n",
       "      <td>...</td>\n",
       "      <td>...</td>\n",
       "      <td>...</td>\n",
       "      <td>...</td>\n",
       "      <td>...</td>\n",
       "      <td>...</td>\n",
       "      <td>...</td>\n",
       "      <td>...</td>\n",
       "      <td>...</td>\n",
       "      <td>...</td>\n",
       "      <td>...</td>\n",
       "      <td>...</td>\n",
       "      <td>...</td>\n",
       "    </tr>\n",
       "    <tr>\n",
       "      <th>19251</th>\n",
       "      <td>377</td>\n",
       "      <td>183000</td>\n",
       "      <td>3</td>\n",
       "      <td>1.00</td>\n",
       "      <td>108.70</td>\n",
       "      <td>680.05</td>\n",
       "      <td>1.0</td>\n",
       "      <td>False</td>\n",
       "      <td>0</td>\n",
       "      <td>3</td>\n",
       "      <td>7</td>\n",
       "      <td>1962</td>\n",
       "      <td>False</td>\n",
       "      <td>1962</td>\n",
       "      <td>98188</td>\n",
       "      <td>11</td>\n",
       "      <td>47.4685</td>\n",
       "      <td>-122.282</td>\n",
       "      <td>189.52</td>\n",
       "      <td>680.05</td>\n",
       "    </tr>\n",
       "    <tr>\n",
       "      <th>19252</th>\n",
       "      <td>377</td>\n",
       "      <td>359000</td>\n",
       "      <td>2</td>\n",
       "      <td>2.75</td>\n",
       "      <td>127.28</td>\n",
       "      <td>105.91</td>\n",
       "      <td>2.0</td>\n",
       "      <td>False</td>\n",
       "      <td>0</td>\n",
       "      <td>3</td>\n",
       "      <td>8</td>\n",
       "      <td>2009</td>\n",
       "      <td>False</td>\n",
       "      <td>2009</td>\n",
       "      <td>98133</td>\n",
       "      <td>11</td>\n",
       "      <td>47.7052</td>\n",
       "      <td>-122.343</td>\n",
       "      <td>127.28</td>\n",
       "      <td>101.26</td>\n",
       "    </tr>\n",
       "    <tr>\n",
       "      <th>19253</th>\n",
       "      <td>378</td>\n",
       "      <td>450000</td>\n",
       "      <td>5</td>\n",
       "      <td>2.00</td>\n",
       "      <td>173.73</td>\n",
       "      <td>682.28</td>\n",
       "      <td>1.5</td>\n",
       "      <td>False</td>\n",
       "      <td>0</td>\n",
       "      <td>3</td>\n",
       "      <td>7</td>\n",
       "      <td>1960</td>\n",
       "      <td>False</td>\n",
       "      <td>1960</td>\n",
       "      <td>98007</td>\n",
       "      <td>21</td>\n",
       "      <td>47.5951</td>\n",
       "      <td>-122.144</td>\n",
       "      <td>173.73</td>\n",
       "      <td>710.71</td>\n",
       "    </tr>\n",
       "    <tr>\n",
       "      <th>19254</th>\n",
       "      <td>387</td>\n",
       "      <td>445500</td>\n",
       "      <td>2</td>\n",
       "      <td>1.75</td>\n",
       "      <td>129.14</td>\n",
       "      <td>619.66</td>\n",
       "      <td>1.0</td>\n",
       "      <td>False</td>\n",
       "      <td>0</td>\n",
       "      <td>3</td>\n",
       "      <td>6</td>\n",
       "      <td>1941</td>\n",
       "      <td>False</td>\n",
       "      <td>1941</td>\n",
       "      <td>98115</td>\n",
       "      <td>11</td>\n",
       "      <td>47.6914</td>\n",
       "      <td>-122.308</td>\n",
       "      <td>85.47</td>\n",
       "      <td>592.72</td>\n",
       "    </tr>\n",
       "    <tr>\n",
       "      <th>19255</th>\n",
       "      <td>390</td>\n",
       "      <td>1310000</td>\n",
       "      <td>4</td>\n",
       "      <td>2.25</td>\n",
       "      <td>348.39</td>\n",
       "      <td>464.52</td>\n",
       "      <td>2.0</td>\n",
       "      <td>False</td>\n",
       "      <td>0</td>\n",
       "      <td>5</td>\n",
       "      <td>8</td>\n",
       "      <td>1924</td>\n",
       "      <td>False</td>\n",
       "      <td>1924</td>\n",
       "      <td>98115</td>\n",
       "      <td>11</td>\n",
       "      <td>47.6747</td>\n",
       "      <td>-122.303</td>\n",
       "      <td>201.60</td>\n",
       "      <td>426.42</td>\n",
       "    </tr>\n",
       "  </tbody>\n",
       "</table>\n",
       "<p>19256 rows × 20 columns</p>\n",
       "</div>"
      ],
      "text/plain": [
       "       date    price  bedrooms  bathrooms  sqm_living  sqm_lot  floors  \\\n",
       "0         0   790000         3       2.50      241.55   441.29     1.0   \n",
       "1         0   555000         4       2.50      307.51   603.87     2.0   \n",
       "2         0   440000         4       2.25      200.67   754.28     1.0   \n",
       "3         0   295000         2       2.50      151.43   127.09     2.0   \n",
       "4         0   470000         5       2.50      205.32   896.98     1.0   \n",
       "...     ...      ...       ...        ...         ...      ...     ...   \n",
       "19251   377   183000         3       1.00      108.70   680.05     1.0   \n",
       "19252   377   359000         2       2.75      127.28   105.91     2.0   \n",
       "19253   378   450000         5       2.00      173.73   682.28     1.5   \n",
       "19254   387   445500         2       1.75      129.14   619.66     1.0   \n",
       "19255   390  1310000         4       2.25      348.39   464.52     2.0   \n",
       "\n",
       "       waterfront  view  condition  grade  yr_built  renovated  yr_renovated  \\\n",
       "0           False     0          4      9      1951      False          1951   \n",
       "1           False     0          3      8      2012      False          2012   \n",
       "2           False     0          3      8      1966      False          1966   \n",
       "3           False     0          3      7      2009      False          2009   \n",
       "4           False     0          3      8      1976      False          1976   \n",
       "...           ...   ...        ...    ...       ...        ...           ...   \n",
       "19251       False     0          3      7      1962      False          1962   \n",
       "19252       False     0          3      8      2009      False          2009   \n",
       "19253       False     0          3      7      1960      False          1960   \n",
       "19254       False     0          3      6      1941      False          1941   \n",
       "19255       False     0          5      8      1924      False          1924   \n",
       "\n",
       "       zipcode  city_encoded      lat     long  sqm_living15  sqm_lot15  \n",
       "0        98117            11  47.6833 -122.400        221.11     441.29  \n",
       "1        98065            15  47.5150 -121.870        221.11     464.52  \n",
       "2        98006            21  47.5443 -122.177        171.87     836.13  \n",
       "3        98106            11  47.5489 -122.363        147.72     214.23  \n",
       "4        98011            14  47.7698 -122.222        193.24     802.03  \n",
       "...        ...           ...      ...      ...           ...        ...  \n",
       "19251    98188            11  47.4685 -122.282        189.52     680.05  \n",
       "19252    98133            11  47.7052 -122.343        127.28     101.26  \n",
       "19253    98007            21  47.5951 -122.144        173.73     710.71  \n",
       "19254    98115            11  47.6914 -122.308         85.47     592.72  \n",
       "19255    98115            11  47.6747 -122.303        201.60     426.42  \n",
       "\n",
       "[19256 rows x 20 columns]"
      ]
     },
     "execution_count": 3,
     "metadata": {},
     "output_type": "execute_result"
    }
   ],
   "source": [
    "df"
   ]
  },
  {
   "cell_type": "code",
   "execution_count": 4,
   "metadata": {},
   "outputs": [],
   "source": [
    "X1 = df['sqm_living'].values.reshape(-1,1)\n",
    "X2 = df['grade'].values.reshape(-1,1)\n",
    "X3 = df[['grade', 'sqm_living']]\n",
    "X4 = df.drop(columns=['price'])\n",
    "y = df['price'].values.reshape(-1,1)\n",
    "\n",
    "df_mean_price = df.groupby('grade').agg(mean_price=('price', 'mean'))\n",
    "\n",
    "Xmean = df_mean_price.index.values.reshape(-1,1)\n",
    "ymean = df_mean_price['mean_price'].values.reshape(-1,1)"
   ]
  },
  {
   "cell_type": "code",
   "execution_count": 5,
   "metadata": {},
   "outputs": [],
   "source": [
    "LinearRegression_model = LinearRegression()"
   ]
  },
  {
   "cell_type": "markdown",
   "metadata": {},
   "source": [
    "### Feature `sqm_living`"
   ]
  },
  {
   "cell_type": "code",
   "execution_count": 6,
   "metadata": {},
   "outputs": [
    {
     "name": "stdout",
     "output_type": "stream",
     "text": [
      "0.4700649106288569\n"
     ]
    },
    {
     "data": {
      "text/plain": [
       "[<matplotlib.lines.Line2D at 0x242c92d5a60>]"
      ]
     },
     "execution_count": 6,
     "metadata": {},
     "output_type": "execute_result"
    },
    {
     "data": {
      "image/png": "[encoded data removed]",
      "text/plain": [
       "<Figure size 640x480 with 1 Axes>"
      ]
     },
     "metadata": {},
     "output_type": "display_data"
    }
   ],
   "source": [
    "LinearRegression_model.fit(X1,y)\n",
    "print(f\"{LinearRegression_model.score(X1,y)}\")\n",
    "\n",
    "prediction1 = LinearRegression_model.predict(X1)\n",
    "plt.scatter(X1,y)\n",
    "plt.plot(X1, prediction1, c=\"r\", lw=3)"
   ]
  },
  {
   "cell_type": "markdown",
   "metadata": {},
   "source": [
    "### Feature `grade`"
   ]
  },
  {
   "cell_type": "code",
   "execution_count": 7,
   "metadata": {},
   "outputs": [
    {
     "name": "stdout",
     "output_type": "stream",
     "text": [
      "0.43724053586845335\n"
     ]
    },
    {
     "data": {
      "text/plain": [
       "[<matplotlib.lines.Line2D at 0x242c938d4c0>]"
      ]
     },
     "execution_count": 7,
     "metadata": {},
     "output_type": "execute_result"
    },
    {
     "data": {
      "image/png": "[encoded data removed]",
      "text/plain": [
       "<Figure size 640x480 with 1 Axes>"
      ]
     },
     "metadata": {},
     "output_type": "display_data"
    }
   ],
   "source": [
    "LinearRegression_model.fit(X2,y)\n",
    "print(f\"{LinearRegression_model.score(X2,y)}\")\n",
    "\n",
    "prediction2 = LinearRegression_model.predict(X2)\n",
    "plt.scatter(X2,y)\n",
    "plt.plot(Xmean, ymean, c=\"g\")\n",
    "plt.plot(X2, prediction2, c=\"r\")"
   ]
  },
  {
   "cell_type": "markdown",
   "metadata": {},
   "source": [
    "### Feature `sqm_living` & `grade`"
   ]
  },
  {
   "cell_type": "code",
   "execution_count": 8,
   "metadata": {},
   "outputs": [
    {
     "data": {
      "text/plain": [
       "0.5223262121808192"
      ]
     },
     "execution_count": 8,
     "metadata": {},
     "output_type": "execute_result"
    }
   ],
   "source": [
    "LinearRegression_model.fit(X3,y)\n",
    "LinearRegression_model.score(X3,y)"
   ]
  },
  {
   "cell_type": "markdown",
   "metadata": {},
   "source": [
    "### All features"
   ]
  },
  {
   "cell_type": "code",
   "execution_count": 9,
   "metadata": {},
   "outputs": [
    {
     "data": {
      "text/plain": [
       "0.7265944582750277"
      ]
     },
     "execution_count": 9,
     "metadata": {},
     "output_type": "execute_result"
    }
   ],
   "source": [
    "LinearRegression_model.fit(X4,y)\n",
    "LinearRegression_model.score(X4,y)"
   ]
  }
 ],
 "metadata": {
  "kernelspec": {
   "display_name": "Python 3",
   "language": "python",
   "name": "python3"
  },
  "language_info": {
   "codemirror_mode": {
    "name": "ipython",
    "version": 3
   },
   "file_extension": ".py",
   "mimetype": "text/x-python",
   "name": "python",
   "nbconvert_exporter": "python",
   "pygments_lexer": "ipython3",
   "version": "3.12.0"
  }
 },
 "nbformat": 4,
 "nbformat_minor": 2
}
