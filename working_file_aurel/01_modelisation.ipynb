{
 "cells": [
  {
   "cell_type": "code",
   "execution_count": 1,
   "metadata": {},
   "outputs": [],
   "source": [
    "import math\n",
    "import pandas as pd\n",
    "import matplotlib.pyplot as plt\n",
    "import plotly.express as px\n",
    "import seaborn as sns\n",
    "import numpy as np\n",
    "from sklearn.svm import SVR\n",
    "from sklearn.ensemble import RandomForestRegressor\n",
    "from sklearn.linear_model import LinearRegression\n",
    "from sklearn.preprocessing import PolynomialFeatures\n",
    "from boruta import BorutaPy\n",
    "from sklearn.metrics import mean_squared_error\n",
    "from sklearn.metrics import r2_score\n",
    "from sklearn.neighbors import KNeighborsRegressor\n",
    "from sklearn.model_selection import train_test_split"
   ]
  },
  {
   "cell_type": "code",
   "execution_count": 2,
   "metadata": {},
   "outputs": [],
   "source": [
    "df = pd.read_csv(\"..\\\\dataset_machine_learning.csv\")"
   ]
  },
  {
   "cell_type": "code",
   "execution_count": 3,
   "metadata": {},
   "outputs": [
    {
     "data": {
      "text/html": [
       "<div>\n",
       "<style scoped>\n",
       "    .dataframe tbody tr th:only-of-type {\n",
       "        vertical-align: middle;\n",
       "    }\n",
       "\n",
       "    .dataframe tbody tr th {\n",
       "        vertical-align: top;\n",
       "    }\n",
       "\n",
       "    .dataframe thead th {\n",
       "        text-align: right;\n",
       "    }\n",
       "</style>\n",
       "<table border=\"1\" class=\"dataframe\">\n",
       "  <thead>\n",
       "    <tr style=\"text-align: right;\">\n",
       "      <th></th>\n",
       "      <th>date</th>\n",
       "      <th>price</th>\n",
       "      <th>bedrooms</th>\n",
       "      <th>bathrooms</th>\n",
       "      <th>sqm_living</th>\n",
       "      <th>sqm_lot</th>\n",
       "      <th>floors</th>\n",
       "      <th>waterfront</th>\n",
       "      <th>view</th>\n",
       "      <th>condition</th>\n",
       "      <th>grade</th>\n",
       "      <th>yr_built</th>\n",
       "      <th>renovated</th>\n",
       "      <th>yr_renovated</th>\n",
       "      <th>zipcode</th>\n",
       "      <th>city_encoded</th>\n",
       "      <th>lat</th>\n",
       "      <th>long</th>\n",
       "      <th>sqm_living15</th>\n",
       "      <th>sqm_lot15</th>\n",
       "    </tr>\n",
       "  </thead>\n",
       "  <tbody>\n",
       "    <tr>\n",
       "      <th>0</th>\n",
       "      <td>0</td>\n",
       "      <td>790000</td>\n",
       "      <td>3</td>\n",
       "      <td>2.50</td>\n",
       "      <td>241.55</td>\n",
       "      <td>441.29</td>\n",
       "      <td>1.0</td>\n",
       "      <td>False</td>\n",
       "      <td>0</td>\n",
       "      <td>4</td>\n",
       "      <td>9</td>\n",
       "      <td>1951</td>\n",
       "      <td>False</td>\n",
       "      <td>1951</td>\n",
       "      <td>98117</td>\n",
       "      <td>11</td>\n",
       "      <td>47.6833</td>\n",
       "      <td>-122.400</td>\n",
       "      <td>221.11</td>\n",
       "      <td>441.29</td>\n",
       "    </tr>\n",
       "    <tr>\n",
       "      <th>1</th>\n",
       "      <td>0</td>\n",
       "      <td>555000</td>\n",
       "      <td>4</td>\n",
       "      <td>2.50</td>\n",
       "      <td>307.51</td>\n",
       "      <td>603.87</td>\n",
       "      <td>2.0</td>\n",
       "      <td>False</td>\n",
       "      <td>0</td>\n",
       "      <td>3</td>\n",
       "      <td>8</td>\n",
       "      <td>2012</td>\n",
       "      <td>False</td>\n",
       "      <td>2012</td>\n",
       "      <td>98065</td>\n",
       "      <td>15</td>\n",
       "      <td>47.5150</td>\n",
       "      <td>-121.870</td>\n",
       "      <td>221.11</td>\n",
       "      <td>464.52</td>\n",
       "    </tr>\n",
       "    <tr>\n",
       "      <th>2</th>\n",
       "      <td>0</td>\n",
       "      <td>440000</td>\n",
       "      <td>4</td>\n",
       "      <td>2.25</td>\n",
       "      <td>200.67</td>\n",
       "      <td>754.28</td>\n",
       "      <td>1.0</td>\n",
       "      <td>False</td>\n",
       "      <td>0</td>\n",
       "      <td>3</td>\n",
       "      <td>8</td>\n",
       "      <td>1966</td>\n",
       "      <td>False</td>\n",
       "      <td>1966</td>\n",
       "      <td>98006</td>\n",
       "      <td>21</td>\n",
       "      <td>47.5443</td>\n",
       "      <td>-122.177</td>\n",
       "      <td>171.87</td>\n",
       "      <td>836.13</td>\n",
       "    </tr>\n",
       "    <tr>\n",
       "      <th>3</th>\n",
       "      <td>0</td>\n",
       "      <td>295000</td>\n",
       "      <td>2</td>\n",
       "      <td>2.50</td>\n",
       "      <td>151.43</td>\n",
       "      <td>127.09</td>\n",
       "      <td>2.0</td>\n",
       "      <td>False</td>\n",
       "      <td>0</td>\n",
       "      <td>3</td>\n",
       "      <td>7</td>\n",
       "      <td>2009</td>\n",
       "      <td>False</td>\n",
       "      <td>2009</td>\n",
       "      <td>98106</td>\n",
       "      <td>11</td>\n",
       "      <td>47.5489</td>\n",
       "      <td>-122.363</td>\n",
       "      <td>147.72</td>\n",
       "      <td>214.23</td>\n",
       "    </tr>\n",
       "    <tr>\n",
       "      <th>4</th>\n",
       "      <td>0</td>\n",
       "      <td>470000</td>\n",
       "      <td>5</td>\n",
       "      <td>2.50</td>\n",
       "      <td>205.32</td>\n",
       "      <td>896.98</td>\n",
       "      <td>1.0</td>\n",
       "      <td>False</td>\n",
       "      <td>0</td>\n",
       "      <td>3</td>\n",
       "      <td>8</td>\n",
       "      <td>1976</td>\n",
       "      <td>False</td>\n",
       "      <td>1976</td>\n",
       "      <td>98011</td>\n",
       "      <td>14</td>\n",
       "      <td>47.7698</td>\n",
       "      <td>-122.222</td>\n",
       "      <td>193.24</td>\n",
       "      <td>802.03</td>\n",
       "    </tr>\n",
       "    <tr>\n",
       "      <th>...</th>\n",
       "      <td>...</td>\n",
       "      <td>...</td>\n",
       "      <td>...</td>\n",
       "      <td>...</td>\n",
       "      <td>...</td>\n",
       "      <td>...</td>\n",
       "      <td>...</td>\n",
       "      <td>...</td>\n",
       "      <td>...</td>\n",
       "      <td>...</td>\n",
       "      <td>...</td>\n",
       "      <td>...</td>\n",
       "      <td>...</td>\n",
       "      <td>...</td>\n",
       "      <td>...</td>\n",
       "      <td>...</td>\n",
       "      <td>...</td>\n",
       "      <td>...</td>\n",
       "      <td>...</td>\n",
       "      <td>...</td>\n",
       "    </tr>\n",
       "    <tr>\n",
       "      <th>19251</th>\n",
       "      <td>377</td>\n",
       "      <td>183000</td>\n",
       "      <td>3</td>\n",
       "      <td>1.00</td>\n",
       "      <td>108.70</td>\n",
       "      <td>680.05</td>\n",
       "      <td>1.0</td>\n",
       "      <td>False</td>\n",
       "      <td>0</td>\n",
       "      <td>3</td>\n",
       "      <td>7</td>\n",
       "      <td>1962</td>\n",
       "      <td>False</td>\n",
       "      <td>1962</td>\n",
       "      <td>98188</td>\n",
       "      <td>11</td>\n",
       "      <td>47.4685</td>\n",
       "      <td>-122.282</td>\n",
       "      <td>189.52</td>\n",
       "      <td>680.05</td>\n",
       "    </tr>\n",
       "    <tr>\n",
       "      <th>19252</th>\n",
       "      <td>377</td>\n",
       "      <td>359000</td>\n",
       "      <td>2</td>\n",
       "      <td>2.75</td>\n",
       "      <td>127.28</td>\n",
       "      <td>105.91</td>\n",
       "      <td>2.0</td>\n",
       "      <td>False</td>\n",
       "      <td>0</td>\n",
       "      <td>3</td>\n",
       "      <td>8</td>\n",
       "      <td>2009</td>\n",
       "      <td>False</td>\n",
       "      <td>2009</td>\n",
       "      <td>98133</td>\n",
       "      <td>11</td>\n",
       "      <td>47.7052</td>\n",
       "      <td>-122.343</td>\n",
       "      <td>127.28</td>\n",
       "      <td>101.26</td>\n",
       "    </tr>\n",
       "    <tr>\n",
       "      <th>19253</th>\n",
       "      <td>378</td>\n",
       "      <td>450000</td>\n",
       "      <td>5</td>\n",
       "      <td>2.00</td>\n",
       "      <td>173.73</td>\n",
       "      <td>682.28</td>\n",
       "      <td>1.5</td>\n",
       "      <td>False</td>\n",
       "      <td>0</td>\n",
       "      <td>3</td>\n",
       "      <td>7</td>\n",
       "      <td>1960</td>\n",
       "      <td>False</td>\n",
       "      <td>1960</td>\n",
       "      <td>98007</td>\n",
       "      <td>21</td>\n",
       "      <td>47.5951</td>\n",
       "      <td>-122.144</td>\n",
       "      <td>173.73</td>\n",
       "      <td>710.71</td>\n",
       "    </tr>\n",
       "    <tr>\n",
       "      <th>19254</th>\n",
       "      <td>387</td>\n",
       "      <td>445500</td>\n",
       "      <td>2</td>\n",
       "      <td>1.75</td>\n",
       "      <td>129.14</td>\n",
       "      <td>619.66</td>\n",
       "      <td>1.0</td>\n",
       "      <td>False</td>\n",
       "      <td>0</td>\n",
       "      <td>3</td>\n",
       "      <td>6</td>\n",
       "      <td>1941</td>\n",
       "      <td>False</td>\n",
       "      <td>1941</td>\n",
       "      <td>98115</td>\n",
       "      <td>11</td>\n",
       "      <td>47.6914</td>\n",
       "      <td>-122.308</td>\n",
       "      <td>85.47</td>\n",
       "      <td>592.72</td>\n",
       "    </tr>\n",
       "    <tr>\n",
       "      <th>19255</th>\n",
       "      <td>390</td>\n",
       "      <td>1310000</td>\n",
       "      <td>4</td>\n",
       "      <td>2.25</td>\n",
       "      <td>348.39</td>\n",
       "      <td>464.52</td>\n",
       "      <td>2.0</td>\n",
       "      <td>False</td>\n",
       "      <td>0</td>\n",
       "      <td>5</td>\n",
       "      <td>8</td>\n",
       "      <td>1924</td>\n",
       "      <td>False</td>\n",
       "      <td>1924</td>\n",
       "      <td>98115</td>\n",
       "      <td>11</td>\n",
       "      <td>47.6747</td>\n",
       "      <td>-122.303</td>\n",
       "      <td>201.60</td>\n",
       "      <td>426.42</td>\n",
       "    </tr>\n",
       "  </tbody>\n",
       "</table>\n",
       "<p>19256 rows × 20 columns</p>\n",
       "</div>"
      ],
      "text/plain": [
       "       date    price  bedrooms  bathrooms  sqm_living  sqm_lot  floors  \\\n",
       "0         0   790000         3       2.50      241.55   441.29     1.0   \n",
       "1         0   555000         4       2.50      307.51   603.87     2.0   \n",
       "2         0   440000         4       2.25      200.67   754.28     1.0   \n",
       "3         0   295000         2       2.50      151.43   127.09     2.0   \n",
       "4         0   470000         5       2.50      205.32   896.98     1.0   \n",
       "...     ...      ...       ...        ...         ...      ...     ...   \n",
       "19251   377   183000         3       1.00      108.70   680.05     1.0   \n",
       "19252   377   359000         2       2.75      127.28   105.91     2.0   \n",
       "19253   378   450000         5       2.00      173.73   682.28     1.5   \n",
       "19254   387   445500         2       1.75      129.14   619.66     1.0   \n",
       "19255   390  1310000         4       2.25      348.39   464.52     2.0   \n",
       "\n",
       "       waterfront  view  condition  grade  yr_built  renovated  yr_renovated  \\\n",
       "0           False     0          4      9      1951      False          1951   \n",
       "1           False     0          3      8      2012      False          2012   \n",
       "2           False     0          3      8      1966      False          1966   \n",
       "3           False     0          3      7      2009      False          2009   \n",
       "4           False     0          3      8      1976      False          1976   \n",
       "...           ...   ...        ...    ...       ...        ...           ...   \n",
       "19251       False     0          3      7      1962      False          1962   \n",
       "19252       False     0          3      8      2009      False          2009   \n",
       "19253       False     0          3      7      1960      False          1960   \n",
       "19254       False     0          3      6      1941      False          1941   \n",
       "19255       False     0          5      8      1924      False          1924   \n",
       "\n",
       "       zipcode  city_encoded      lat     long  sqm_living15  sqm_lot15  \n",
       "0        98117            11  47.6833 -122.400        221.11     441.29  \n",
       "1        98065            15  47.5150 -121.870        221.11     464.52  \n",
       "2        98006            21  47.5443 -122.177        171.87     836.13  \n",
       "3        98106            11  47.5489 -122.363        147.72     214.23  \n",
       "4        98011            14  47.7698 -122.222        193.24     802.03  \n",
       "...        ...           ...      ...      ...           ...        ...  \n",
       "19251    98188            11  47.4685 -122.282        189.52     680.05  \n",
       "19252    98133            11  47.7052 -122.343        127.28     101.26  \n",
       "19253    98007            21  47.5951 -122.144        173.73     710.71  \n",
       "19254    98115            11  47.6914 -122.308         85.47     592.72  \n",
       "19255    98115            11  47.6747 -122.303        201.60     426.42  \n",
       "\n",
       "[19256 rows x 20 columns]"
      ]
     },
     "execution_count": 3,
     "metadata": {},
     "output_type": "execute_result"
    }
   ],
   "source": [
    "df"
   ]
  },
  {
   "cell_type": "code",
   "execution_count": 4,
   "metadata": {},
   "outputs": [],
   "source": [
    "X1 = df['sqm_living'].values.reshape(-1,1)\n",
    "X2 = df['grade'].values.reshape(-1,1)\n",
    "X3 = df[['grade', 'sqm_living']]\n",
    "X4 = df.drop(columns=['price'])\n",
    "y = df['price'].values.reshape(-1,1)\n",
    "\n",
    "df_mean_price = df.groupby('grade').agg(mean_price=('price', 'mean'))\n",
    "\n",
    "Xmean = df_mean_price.index.values.reshape(-1,1)\n",
    "ymean = df_mean_price['mean_price'].values.reshape(-1,1)"
   ]
  },
  {
   "cell_type": "code",
   "execution_count": 5,
   "metadata": {},
   "outputs": [],
   "source": [
    "LinearRegression_model = LinearRegression()\n",
    "poly_model = PolynomialFeatures(6)\n",
    "linear_model_for_poly = LinearRegression()\n",
    "RandomForest_model = RandomForestRegressor(max_depth=2)\n",
    "model_SVR = SVR( kernel = 'linear' , gamma = 'auto')\n",
    "knn_model = KNeighborsRegressor(n_neighbors=3)"
   ]
  },
  {
   "cell_type": "markdown",
   "metadata": {},
   "source": [
    "### Feature `sqm_living`"
   ]
  },
  {
   "cell_type": "markdown",
   "metadata": {},
   "source": [
    "Regression linéaire"
   ]
  },
  {
   "cell_type": "code",
   "execution_count": 6,
   "metadata": {},
   "outputs": [
    {
     "name": "stdout",
     "output_type": "stream",
     "text": [
      "RMSE : 238242.5239297692\n",
      "R2 : 0.4700649106288569\n"
     ]
    },
    {
     "data": {
      "image/png": "[encoded data removed]",
      "text/plain": [
       "<Figure size 640x480 with 1 Axes>"
      ]
     },
     "metadata": {},
     "output_type": "display_data"
    }
   ],
   "source": [
    "LinearRegression_model.fit(X1,y)\n",
    "\n",
    "\n",
    "\n",
    "prediction_linear_living = LinearRegression_model.predict(X1)\n",
    "plt.scatter(X1,y)\n",
    "plt.plot(X1, prediction_linear_living, c=\"r\", lw=3)\n",
    "\n",
    "print(f'RMSE : {np.sqrt(mean_squared_error(y, prediction_linear_living))}')\n",
    "print(f'R2 : {r2_score(y, prediction_linear_living)}')"
   ]
  },
  {
   "cell_type": "markdown",
   "metadata": {},
   "source": [
    "Regression polynomiale"
   ]
  },
  {
   "cell_type": "code",
   "execution_count": 7,
   "metadata": {},
   "outputs": [
    {
     "name": "stdout",
     "output_type": "stream",
     "text": [
      "RMSE : 226905.46320473167\n",
      "R2 : 0.5193001136651764\n"
     ]
    },
    {
     "data": {
      "image/png": "[encoded data removed]",
      "text/plain": [
       "<Figure size 640x480 with 1 Axes>"
      ]
     },
     "metadata": {},
     "output_type": "display_data"
    }
   ],
   "source": [
    "x_poly = poly_model.fit_transform(X1)\n",
    "\n",
    "linear_model_for_poly.fit(x_poly, y)\n",
    "y_poly_pred = linear_model_for_poly.predict(x_poly)\n",
    "\n",
    "\n",
    "\n",
    "print(f'RMSE : {np.sqrt(mean_squared_error(y, y_poly_pred))}')\n",
    "print(f'R2 : {r2_score(y, y_poly_pred)}')\n",
    "\n",
    "import operator\n",
    "plt.scatter(X1, y, s=10)\n",
    "# sort the values of x before line plot\n",
    "sort_axis = operator.itemgetter(0)\n",
    "sorted_zip = sorted(zip(X1,y_poly_pred), key=sort_axis)\n",
    "x_p, y_poly_pred_P = zip(*sorted_zip)\n",
    "plt.plot(x_p, y_poly_pred_P, color='g')\n",
    "plt.show()"
   ]
  },
  {
   "cell_type": "markdown",
   "metadata": {},
   "source": [
    "Random forest"
   ]
  },
  {
   "cell_type": "code",
   "execution_count": 8,
   "metadata": {},
   "outputs": [
    {
     "name": "stderr",
     "output_type": "stream",
     "text": [
      "c:\\Users\\Consultant\\AppData\\Local\\Programs\\Python\\Python312\\Lib\\site-packages\\sklearn\\base.py:1474: DataConversionWarning: A column-vector y was passed when a 1d array was expected. Please change the shape of y to (n_samples,), for example using ravel().\n",
      "  return fit_method(estimator, *args, **kwargs)\n"
     ]
    },
    {
     "name": "stdout",
     "output_type": "stream",
     "text": [
      "RMSE : 240471.2147602496\n",
      "R2 : 0.4601037525500935\n"
     ]
    }
   ],
   "source": [
    "RandomForest_model.fit(X1, y)\n",
    "\n",
    "prediction_forest_living = RandomForest_model.predict(X1)\n",
    "\n",
    "print(f'RMSE : {np.sqrt(mean_squared_error(y, prediction_forest_living))}')\n",
    "print(f'R2 : {r2_score(y, prediction_forest_living)}')"
   ]
  },
  {
   "cell_type": "markdown",
   "metadata": {},
   "source": [
    "SVR"
   ]
  },
  {
   "cell_type": "code",
   "execution_count": 9,
   "metadata": {},
   "outputs": [
    {
     "name": "stderr",
     "output_type": "stream",
     "text": [
      "c:\\Users\\Consultant\\AppData\\Local\\Programs\\Python\\Python312\\Lib\\site-packages\\sklearn\\utils\\validation.py:1300: DataConversionWarning: A column-vector y was passed when a 1d array was expected. Please change the shape of y to (n_samples, ), for example using ravel().\n",
      "  y = column_or_1d(y, warn=True)\n"
     ]
    },
    {
     "name": "stdout",
     "output_type": "stream",
     "text": [
      "RMSE : 244485.8328380605\n",
      "R2 : 0.4419263583585379\n"
     ]
    },
    {
     "data": {
      "image/png": "[encoded data removed]",
      "text/plain": [
       "<Figure size 640x480 with 1 Axes>"
      ]
     },
     "metadata": {},
     "output_type": "display_data"
    }
   ],
   "source": [
    "model_SVR.fit(X1, y)\n",
    "\n",
    "prediction_SVR_living = model_SVR.predict(X1)\n",
    "\n",
    "plt.scatter(X1,y)\n",
    "plt.plot(X1, prediction_SVR_living, c=\"r\", lw=3)\n",
    "\n",
    "print(f'RMSE : {np.sqrt(mean_squared_error(y, prediction_SVR_living))}')\n",
    "print(f'R2 : {r2_score(y, prediction_SVR_living)}')"
   ]
  },
  {
   "cell_type": "markdown",
   "metadata": {},
   "source": [
    "KNN"
   ]
  },
  {
   "cell_type": "code",
   "execution_count": 10,
   "metadata": {},
   "outputs": [
    {
     "name": "stdout",
     "output_type": "stream",
     "text": [
      "RMSE : 245279.20720218855\n",
      "R2 : 0.438298502201644\n"
     ]
    }
   ],
   "source": [
    "knn_model.fit(X1, y)\n",
    "\n",
    "prediction_KNN_living = knn_model.predict(X1)\n",
    "\n",
    "print(f'RMSE : {np.sqrt(mean_squared_error(y, prediction_KNN_living))}')\n",
    "print(f'R2 : {r2_score(y, prediction_KNN_living)}')"
   ]
  },
  {
   "cell_type": "markdown",
   "metadata": {},
   "source": [
    "### Feature `grade`"
   ]
  },
  {
   "cell_type": "markdown",
   "metadata": {},
   "source": [
    "Regression linéaire"
   ]
  },
  {
   "cell_type": "code",
   "execution_count": 11,
   "metadata": {},
   "outputs": [
    {
     "name": "stdout",
     "output_type": "stream",
     "text": [
      "RMSE : 245510.09057040865\n",
      "R2 : 0.43724053586845335\n"
     ]
    },
    {
     "data": {
      "image/png": "[encoded data removed]",
      "text/plain": [
       "<Figure size 640x480 with 1 Axes>"
      ]
     },
     "metadata": {},
     "output_type": "display_data"
    }
   ],
   "source": [
    "LinearRegression_model.fit(X2,y)\n",
    "\n",
    "\n",
    "prediction_linear_grade = LinearRegression_model.predict(X2)\n",
    "plt.scatter(X2,y)\n",
    "plt.plot(X2, prediction_linear_grade, c=\"r\", lw=3)\n",
    "\n",
    "print(f'RMSE : {np.sqrt(mean_squared_error(y, prediction_linear_grade))}')\n",
    "print(f'R2 : {r2_score(y, prediction_linear_grade)}')"
   ]
  },
  {
   "cell_type": "markdown",
   "metadata": {},
   "source": [
    "Regression polynomiale"
   ]
  },
  {
   "cell_type": "code",
   "execution_count": 12,
   "metadata": {},
   "outputs": [
    {
     "name": "stdout",
     "output_type": "stream",
     "text": [
      "RMSE : 230868.70536356728\n",
      "R2 : 0.5023611823912724\n"
     ]
    },
    {
     "data": {
      "image/png": "[encoded data removed]",
      "text/plain": [
       "<Figure size 640x480 with 1 Axes>"
      ]
     },
     "metadata": {},
     "output_type": "display_data"
    }
   ],
   "source": [
    "x_poly = poly_model.fit_transform(X2)\n",
    "\n",
    "linear_model_for_poly.fit(x_poly, y)\n",
    "y_poly_pred = linear_model_for_poly.predict(x_poly)\n",
    "\n",
    "\n",
    "\n",
    "print(f'RMSE : {np.sqrt(mean_squared_error(y, y_poly_pred))}')\n",
    "print(f'R2 : {r2_score(y, y_poly_pred)}')\n",
    "\n",
    "import operator\n",
    "plt.scatter(X2, y, s=10)\n",
    "# sort the values of x before line plot\n",
    "sort_axis = operator.itemgetter(0)\n",
    "sorted_zip = sorted(zip(X2,y_poly_pred), key=sort_axis)\n",
    "x_p, y_poly_pred_P = zip(*sorted_zip)\n",
    "plt.plot(x_p, y_poly_pred_P, color='g')\n",
    "plt.show()"
   ]
  },
  {
   "cell_type": "markdown",
   "metadata": {},
   "source": [
    "Random forest"
   ]
  },
  {
   "cell_type": "code",
   "execution_count": 13,
   "metadata": {},
   "outputs": [
    {
     "name": "stderr",
     "output_type": "stream",
     "text": [
      "c:\\Users\\Consultant\\AppData\\Local\\Programs\\Python\\Python312\\Lib\\site-packages\\sklearn\\base.py:1474: DataConversionWarning: A column-vector y was passed when a 1d array was expected. Please change the shape of y to (n_samples,), for example using ravel().\n",
      "  return fit_method(estimator, *args, **kwargs)\n"
     ]
    },
    {
     "name": "stdout",
     "output_type": "stream",
     "text": [
      "RMSE : 241357.3886155557\n",
      "R2 : 0.456117217146653\n"
     ]
    }
   ],
   "source": [
    "RandomForest_model.fit(X2, y)\n",
    "\n",
    "prediction_forest_grade = RandomForest_model.predict(X2)\n",
    "\n",
    "print(f'RMSE : {np.sqrt(mean_squared_error(y, prediction_forest_grade))}')\n",
    "print(f'R2 : {r2_score(y, prediction_forest_grade)}')"
   ]
  },
  {
   "cell_type": "markdown",
   "metadata": {},
   "source": [
    "SVR"
   ]
  },
  {
   "cell_type": "code",
   "execution_count": 14,
   "metadata": {},
   "outputs": [
    {
     "name": "stderr",
     "output_type": "stream",
     "text": [
      "c:\\Users\\Consultant\\AppData\\Local\\Programs\\Python\\Python312\\Lib\\site-packages\\sklearn\\utils\\validation.py:1300: DataConversionWarning: A column-vector y was passed when a 1d array was expected. Please change the shape of y to (n_samples, ), for example using ravel().\n",
      "  y = column_or_1d(y, warn=True)\n"
     ]
    },
    {
     "name": "stdout",
     "output_type": "stream",
     "text": [
      "RMSE : 329139.0275081803\n",
      "R2 : -0.011446410837133936\n"
     ]
    },
    {
     "data": {
      "image/png": "[encoded data removed]",
      "text/plain": [
       "<Figure size 640x480 with 1 Axes>"
      ]
     },
     "metadata": {},
     "output_type": "display_data"
    }
   ],
   "source": [
    "model_SVR.fit(X2, y)\n",
    "\n",
    "prediction_SVR_grade = model_SVR.predict(X2)\n",
    "\n",
    "plt.scatter(X2,y)\n",
    "plt.plot(X2, prediction_SVR_grade, c=\"r\", lw=3)\n",
    "\n",
    "print(f'RMSE : {np.sqrt(mean_squared_error(y, prediction_SVR_grade))}')\n",
    "print(f'R2 : {r2_score(y, prediction_SVR_grade)}')"
   ]
  },
  {
   "cell_type": "markdown",
   "metadata": {},
   "source": [
    "KNN"
   ]
  },
  {
   "cell_type": "code",
   "execution_count": 15,
   "metadata": {},
   "outputs": [
    {
     "name": "stdout",
     "output_type": "stream",
     "text": [
      "RMSE : 252827.12429072664\n",
      "R2 : 0.4031963861703336\n"
     ]
    }
   ],
   "source": [
    "knn_model.fit(X2, y)\n",
    "\n",
    "prediction_KNN_grade = knn_model.predict(X2)\n",
    "\n",
    "print(f'RMSE : {np.sqrt(mean_squared_error(y, prediction_KNN_grade))}')\n",
    "print(f'R2 : {r2_score(y, prediction_KNN_grade)}')"
   ]
  },
  {
   "cell_type": "markdown",
   "metadata": {},
   "source": [
    "### Feature `sqm_living` & `grade`"
   ]
  },
  {
   "cell_type": "markdown",
   "metadata": {},
   "source": [
    "Regression linéaire"
   ]
  },
  {
   "cell_type": "code",
   "execution_count": 16,
   "metadata": {},
   "outputs": [
    {
     "name": "stdout",
     "output_type": "stream",
     "text": [
      "RMSE : 226190.12880390152\n",
      "R2 : 0.5223262121808192\n"
     ]
    }
   ],
   "source": [
    "LinearRegression_model.fit(X3,y)\n",
    "\n",
    "prediction_linear_bi = LinearRegression_model.predict(X3)\n",
    "\n",
    "print(f'RMSE : {np.sqrt(mean_squared_error(y, prediction_linear_bi))}')\n",
    "print(f'R2 : {r2_score(y, prediction_linear_bi)}')"
   ]
  },
  {
   "cell_type": "markdown",
   "metadata": {},
   "source": [
    "Regression polynomiale"
   ]
  },
  {
   "cell_type": "code",
   "execution_count": 17,
   "metadata": {},
   "outputs": [
    {
     "name": "stdout",
     "output_type": "stream",
     "text": [
      "RMSE : 210108.29102791307\n",
      "R2 : 0.587835583463295\n"
     ]
    }
   ],
   "source": [
    "x_poly = poly_model.fit_transform(X3)\n",
    "\n",
    "linear_model_for_poly.fit(x_poly, y)\n",
    "y_poly_pred = linear_model_for_poly.predict(x_poly)\n",
    "\n",
    "print(f'RMSE : {np.sqrt(mean_squared_error(y, y_poly_pred))}')\n",
    "print(f'R2 : {r2_score(y, y_poly_pred)}')"
   ]
  },
  {
   "cell_type": "markdown",
   "metadata": {},
   "source": [
    "Random forest"
   ]
  },
  {
   "cell_type": "code",
   "execution_count": 18,
   "metadata": {},
   "outputs": [
    {
     "name": "stderr",
     "output_type": "stream",
     "text": [
      "c:\\Users\\Consultant\\AppData\\Local\\Programs\\Python\\Python312\\Lib\\site-packages\\sklearn\\base.py:1474: DataConversionWarning: A column-vector y was passed when a 1d array was expected. Please change the shape of y to (n_samples,), for example using ravel().\n",
      "  return fit_method(estimator, *args, **kwargs)\n"
     ]
    },
    {
     "name": "stdout",
     "output_type": "stream",
     "text": [
      "RMSE : 233985.34595369437\n",
      "R2 : 0.48883461946665885\n"
     ]
    }
   ],
   "source": [
    "RandomForest_model.fit(X3, y)\n",
    "\n",
    "prediction_forest_bi = RandomForest_model.predict(X3)\n",
    "\n",
    "print(f'RMSE : {np.sqrt(mean_squared_error(y, prediction_forest_bi))}')\n",
    "print(f'R2 : {r2_score(y, prediction_forest_bi)}')"
   ]
  },
  {
   "cell_type": "markdown",
   "metadata": {},
   "source": [
    "SVR"
   ]
  },
  {
   "cell_type": "code",
   "execution_count": 19,
   "metadata": {},
   "outputs": [
    {
     "name": "stderr",
     "output_type": "stream",
     "text": [
      "c:\\Users\\Consultant\\AppData\\Local\\Programs\\Python\\Python312\\Lib\\site-packages\\sklearn\\utils\\validation.py:1300: DataConversionWarning: A column-vector y was passed when a 1d array was expected. Please change the shape of y to (n_samples, ), for example using ravel().\n",
      "  y = column_or_1d(y, warn=True)\n"
     ]
    },
    {
     "name": "stdout",
     "output_type": "stream",
     "text": [
      "RMSE : 243566.52627885653\n",
      "R2 : 0.4461153634630045\n"
     ]
    }
   ],
   "source": [
    "model_SVR.fit(X3, y)\n",
    "\n",
    "prediction_SVR_bi = model_SVR.predict(X3)\n",
    "\n",
    "print(f'RMSE : {np.sqrt(mean_squared_error(y, prediction_SVR_bi))}')\n",
    "print(f'R2 : {r2_score(y, prediction_SVR_bi)}')"
   ]
  },
  {
   "cell_type": "markdown",
   "metadata": {},
   "source": [
    "KNN"
   ]
  },
  {
   "cell_type": "code",
   "execution_count": 20,
   "metadata": {},
   "outputs": [
    {
     "name": "stdout",
     "output_type": "stream",
     "text": [
      "RMSE : 212317.76948164348\n",
      "R2 : 0.5791214423542449\n"
     ]
    }
   ],
   "source": [
    "knn_model.fit(X3, y)\n",
    "\n",
    "prediction_KNN_bi = knn_model.predict(X3)\n",
    "\n",
    "print(f'RMSE : {np.sqrt(mean_squared_error(y, prediction_KNN_bi))}')\n",
    "print(f'R2 : {r2_score(y, prediction_KNN_bi)}')"
   ]
  },
  {
   "cell_type": "markdown",
   "metadata": {},
   "source": [
    "### All features"
   ]
  },
  {
   "cell_type": "markdown",
   "metadata": {},
   "source": [
    "Regression linéaire"
   ]
  },
  {
   "cell_type": "code",
   "execution_count": 21,
   "metadata": {},
   "outputs": [
    {
     "name": "stdout",
     "output_type": "stream",
     "text": [
      "RMSE : 171124.26641031587\n",
      "R2 : 0.7265944582750277\n"
     ]
    }
   ],
   "source": [
    "LinearRegression_model.fit(X4,y)\n",
    "\n",
    "prediction_linear_all = LinearRegression_model.predict(X4)\n",
    "\n",
    "print(f'RMSE : {np.sqrt(mean_squared_error(y, prediction_linear_all))}')\n",
    "print(f'R2 : {r2_score(y, prediction_linear_all)}')"
   ]
  },
  {
   "cell_type": "markdown",
   "metadata": {},
   "source": [
    "Regression polynomiale"
   ]
  },
  {
   "cell_type": "code",
   "execution_count": 22,
   "metadata": {},
   "outputs": [
    {
     "ename": "MemoryError",
     "evalue": "Unable to allocate 25.4 GiB for an array with shape (19256, 177100) and data type float64",
     "output_type": "error",
     "traceback": [
      "\u001b[1;31m---------------------------------------------------------------------------\u001b[0m",
      "\u001b[1;31mMemoryError\u001b[0m                               Traceback (most recent call last)",
      "Cell \u001b[1;32mIn[22], line 1\u001b[0m\n\u001b[1;32m----> 1\u001b[0m x_poly \u001b[38;5;241m=\u001b[39m \u001b[43mpoly_model\u001b[49m\u001b[38;5;241;43m.\u001b[39;49m\u001b[43mfit_transform\u001b[49m\u001b[43m(\u001b[49m\u001b[43mX4\u001b[49m\u001b[43m)\u001b[49m\n\u001b[0;32m      3\u001b[0m linear_model_for_poly\u001b[38;5;241m.\u001b[39mfit(x_poly, y)\n\u001b[0;32m      4\u001b[0m y_poly_pred \u001b[38;5;241m=\u001b[39m linear_model_for_poly\u001b[38;5;241m.\u001b[39mpredict(x_poly)\n",
      "File \u001b[1;32mc:\\Users\\Consultant\\AppData\\Local\\Programs\\Python\\Python312\\Lib\\site-packages\\sklearn\\utils\\_set_output.py:295\u001b[0m, in \u001b[0;36m_wrap_method_output.<locals>.wrapped\u001b[1;34m(self, X, *args, **kwargs)\u001b[0m\n\u001b[0;32m    293\u001b[0m \u001b[38;5;129m@wraps\u001b[39m(f)\n\u001b[0;32m    294\u001b[0m \u001b[38;5;28;01mdef\u001b[39;00m \u001b[38;5;21mwrapped\u001b[39m(\u001b[38;5;28mself\u001b[39m, X, \u001b[38;5;241m*\u001b[39margs, \u001b[38;5;241m*\u001b[39m\u001b[38;5;241m*\u001b[39mkwargs):\n\u001b[1;32m--> 295\u001b[0m     data_to_wrap \u001b[38;5;241m=\u001b[39m \u001b[43mf\u001b[49m\u001b[43m(\u001b[49m\u001b[38;5;28;43mself\u001b[39;49m\u001b[43m,\u001b[49m\u001b[43m \u001b[49m\u001b[43mX\u001b[49m\u001b[43m,\u001b[49m\u001b[43m \u001b[49m\u001b[38;5;241;43m*\u001b[39;49m\u001b[43margs\u001b[49m\u001b[43m,\u001b[49m\u001b[43m \u001b[49m\u001b[38;5;241;43m*\u001b[39;49m\u001b[38;5;241;43m*\u001b[39;49m\u001b[43mkwargs\u001b[49m\u001b[43m)\u001b[49m\n\u001b[0;32m    296\u001b[0m     \u001b[38;5;28;01mif\u001b[39;00m \u001b[38;5;28misinstance\u001b[39m(data_to_wrap, \u001b[38;5;28mtuple\u001b[39m):\n\u001b[0;32m    297\u001b[0m         \u001b[38;5;66;03m# only wrap the first output for cross decomposition\u001b[39;00m\n\u001b[0;32m    298\u001b[0m         return_tuple \u001b[38;5;241m=\u001b[39m (\n\u001b[0;32m    299\u001b[0m             _wrap_data_with_container(method, data_to_wrap[\u001b[38;5;241m0\u001b[39m], X, \u001b[38;5;28mself\u001b[39m),\n\u001b[0;32m    300\u001b[0m             \u001b[38;5;241m*\u001b[39mdata_to_wrap[\u001b[38;5;241m1\u001b[39m:],\n\u001b[0;32m    301\u001b[0m         )\n",
      "File \u001b[1;32mc:\\Users\\Consultant\\AppData\\Local\\Programs\\Python\\Python312\\Lib\\site-packages\\sklearn\\base.py:1098\u001b[0m, in \u001b[0;36mTransformerMixin.fit_transform\u001b[1;34m(self, X, y, **fit_params)\u001b[0m\n\u001b[0;32m   1083\u001b[0m         warnings\u001b[38;5;241m.\u001b[39mwarn(\n\u001b[0;32m   1084\u001b[0m             (\n\u001b[0;32m   1085\u001b[0m                 \u001b[38;5;124mf\u001b[39m\u001b[38;5;124m\"\u001b[39m\u001b[38;5;124mThis object (\u001b[39m\u001b[38;5;132;01m{\u001b[39;00m\u001b[38;5;28mself\u001b[39m\u001b[38;5;241m.\u001b[39m\u001b[38;5;18m__class__\u001b[39m\u001b[38;5;241m.\u001b[39m\u001b[38;5;18m__name__\u001b[39m\u001b[38;5;132;01m}\u001b[39;00m\u001b[38;5;124m) has a `transform`\u001b[39m\u001b[38;5;124m\"\u001b[39m\n\u001b[1;32m   (...)\u001b[0m\n\u001b[0;32m   1093\u001b[0m             \u001b[38;5;167;01mUserWarning\u001b[39;00m,\n\u001b[0;32m   1094\u001b[0m         )\n\u001b[0;32m   1096\u001b[0m \u001b[38;5;28;01mif\u001b[39;00m y \u001b[38;5;129;01mis\u001b[39;00m \u001b[38;5;28;01mNone\u001b[39;00m:\n\u001b[0;32m   1097\u001b[0m     \u001b[38;5;66;03m# fit method of arity 1 (unsupervised transformation)\u001b[39;00m\n\u001b[1;32m-> 1098\u001b[0m     \u001b[38;5;28;01mreturn\u001b[39;00m \u001b[38;5;28;43mself\u001b[39;49m\u001b[38;5;241;43m.\u001b[39;49m\u001b[43mfit\u001b[49m\u001b[43m(\u001b[49m\u001b[43mX\u001b[49m\u001b[43m,\u001b[49m\u001b[43m \u001b[49m\u001b[38;5;241;43m*\u001b[39;49m\u001b[38;5;241;43m*\u001b[39;49m\u001b[43mfit_params\u001b[49m\u001b[43m)\u001b[49m\u001b[38;5;241;43m.\u001b[39;49m\u001b[43mtransform\u001b[49m\u001b[43m(\u001b[49m\u001b[43mX\u001b[49m\u001b[43m)\u001b[49m\n\u001b[0;32m   1099\u001b[0m \u001b[38;5;28;01melse\u001b[39;00m:\n\u001b[0;32m   1100\u001b[0m     \u001b[38;5;66;03m# fit method of arity 2 (supervised transformation)\u001b[39;00m\n\u001b[0;32m   1101\u001b[0m     \u001b[38;5;28;01mreturn\u001b[39;00m \u001b[38;5;28mself\u001b[39m\u001b[38;5;241m.\u001b[39mfit(X, y, \u001b[38;5;241m*\u001b[39m\u001b[38;5;241m*\u001b[39mfit_params)\u001b[38;5;241m.\u001b[39mtransform(X)\n",
      "File \u001b[1;32mc:\\Users\\Consultant\\AppData\\Local\\Programs\\Python\\Python312\\Lib\\site-packages\\sklearn\\utils\\_set_output.py:295\u001b[0m, in \u001b[0;36m_wrap_method_output.<locals>.wrapped\u001b[1;34m(self, X, *args, **kwargs)\u001b[0m\n\u001b[0;32m    293\u001b[0m \u001b[38;5;129m@wraps\u001b[39m(f)\n\u001b[0;32m    294\u001b[0m \u001b[38;5;28;01mdef\u001b[39;00m \u001b[38;5;21mwrapped\u001b[39m(\u001b[38;5;28mself\u001b[39m, X, \u001b[38;5;241m*\u001b[39margs, \u001b[38;5;241m*\u001b[39m\u001b[38;5;241m*\u001b[39mkwargs):\n\u001b[1;32m--> 295\u001b[0m     data_to_wrap \u001b[38;5;241m=\u001b[39m \u001b[43mf\u001b[49m\u001b[43m(\u001b[49m\u001b[38;5;28;43mself\u001b[39;49m\u001b[43m,\u001b[49m\u001b[43m \u001b[49m\u001b[43mX\u001b[49m\u001b[43m,\u001b[49m\u001b[43m \u001b[49m\u001b[38;5;241;43m*\u001b[39;49m\u001b[43margs\u001b[49m\u001b[43m,\u001b[49m\u001b[43m \u001b[49m\u001b[38;5;241;43m*\u001b[39;49m\u001b[38;5;241;43m*\u001b[39;49m\u001b[43mkwargs\u001b[49m\u001b[43m)\u001b[49m\n\u001b[0;32m    296\u001b[0m     \u001b[38;5;28;01mif\u001b[39;00m \u001b[38;5;28misinstance\u001b[39m(data_to_wrap, \u001b[38;5;28mtuple\u001b[39m):\n\u001b[0;32m    297\u001b[0m         \u001b[38;5;66;03m# only wrap the first output for cross decomposition\u001b[39;00m\n\u001b[0;32m    298\u001b[0m         return_tuple \u001b[38;5;241m=\u001b[39m (\n\u001b[0;32m    299\u001b[0m             _wrap_data_with_container(method, data_to_wrap[\u001b[38;5;241m0\u001b[39m], X, \u001b[38;5;28mself\u001b[39m),\n\u001b[0;32m    300\u001b[0m             \u001b[38;5;241m*\u001b[39mdata_to_wrap[\u001b[38;5;241m1\u001b[39m:],\n\u001b[0;32m    301\u001b[0m         )\n",
      "File \u001b[1;32mc:\\Users\\Consultant\\AppData\\Local\\Programs\\Python\\Python312\\Lib\\site-packages\\sklearn\\preprocessing\\_polynomial.py:507\u001b[0m, in \u001b[0;36mPolynomialFeatures.transform\u001b[1;34m(self, X)\u001b[0m\n\u001b[0;32m    503\u001b[0m     XP \u001b[38;5;241m=\u001b[39m sparse\u001b[38;5;241m.\u001b[39mhstack(columns, dtype\u001b[38;5;241m=\u001b[39mX\u001b[38;5;241m.\u001b[39mdtype)\u001b[38;5;241m.\u001b[39mtocsc()\n\u001b[0;32m    504\u001b[0m \u001b[38;5;28;01melse\u001b[39;00m:\n\u001b[0;32m    505\u001b[0m     \u001b[38;5;66;03m# Do as if _min_degree = 0 and cut down array after the\u001b[39;00m\n\u001b[0;32m    506\u001b[0m     \u001b[38;5;66;03m# computation, i.e. use _n_out_full instead of n_output_features_.\u001b[39;00m\n\u001b[1;32m--> 507\u001b[0m     XP \u001b[38;5;241m=\u001b[39m \u001b[43mnp\u001b[49m\u001b[38;5;241;43m.\u001b[39;49m\u001b[43mempty\u001b[49m\u001b[43m(\u001b[49m\n\u001b[0;32m    508\u001b[0m \u001b[43m        \u001b[49m\u001b[43mshape\u001b[49m\u001b[38;5;241;43m=\u001b[39;49m\u001b[43m(\u001b[49m\u001b[43mn_samples\u001b[49m\u001b[43m,\u001b[49m\u001b[43m \u001b[49m\u001b[38;5;28;43mself\u001b[39;49m\u001b[38;5;241;43m.\u001b[39;49m\u001b[43m_n_out_full\u001b[49m\u001b[43m)\u001b[49m\u001b[43m,\u001b[49m\u001b[43m \u001b[49m\u001b[43mdtype\u001b[49m\u001b[38;5;241;43m=\u001b[39;49m\u001b[43mX\u001b[49m\u001b[38;5;241;43m.\u001b[39;49m\u001b[43mdtype\u001b[49m\u001b[43m,\u001b[49m\u001b[43m \u001b[49m\u001b[43morder\u001b[49m\u001b[38;5;241;43m=\u001b[39;49m\u001b[38;5;28;43mself\u001b[39;49m\u001b[38;5;241;43m.\u001b[39;49m\u001b[43morder\u001b[49m\n\u001b[0;32m    509\u001b[0m \u001b[43m    \u001b[49m\u001b[43m)\u001b[49m\n\u001b[0;32m    511\u001b[0m     \u001b[38;5;66;03m# What follows is a faster implementation of:\u001b[39;00m\n\u001b[0;32m    512\u001b[0m     \u001b[38;5;66;03m# for i, comb in enumerate(combinations):\u001b[39;00m\n\u001b[0;32m    513\u001b[0m     \u001b[38;5;66;03m#     XP[:, i] = X[:, comb].prod(1)\u001b[39;00m\n\u001b[1;32m   (...)\u001b[0m\n\u001b[0;32m    523\u001b[0m \n\u001b[0;32m    524\u001b[0m     \u001b[38;5;66;03m# degree 0 term\u001b[39;00m\n\u001b[0;32m    525\u001b[0m     \u001b[38;5;28;01mif\u001b[39;00m \u001b[38;5;28mself\u001b[39m\u001b[38;5;241m.\u001b[39minclude_bias:\n",
      "\u001b[1;31mMemoryError\u001b[0m: Unable to allocate 25.4 GiB for an array with shape (19256, 177100) and data type float64"
     ]
    }
   ],
   "source": [
    "x_poly = poly_model.fit_transform(X4)\n",
    "\n",
    "linear_model_for_poly.fit(x_poly, y)\n",
    "y_poly_pred = linear_model_for_poly.predict(x_poly)\n",
    "\n",
    "print(f'RMSE : {np.sqrt(mean_squared_error(y, y_poly_pred))}')\n",
    "print(f'R2 : {r2_score(y, y_poly_pred)}')"
   ]
  },
  {
   "cell_type": "markdown",
   "metadata": {},
   "source": [
    "Random forest"
   ]
  },
  {
   "cell_type": "code",
   "execution_count": 23,
   "metadata": {},
   "outputs": [
    {
     "name": "stderr",
     "output_type": "stream",
     "text": [
      "c:\\Users\\Consultant\\AppData\\Local\\Programs\\Python\\Python312\\Lib\\site-packages\\sklearn\\base.py:1474: DataConversionWarning: A column-vector y was passed when a 1d array was expected. Please change the shape of y to (n_samples,), for example using ravel().\n",
      "  return fit_method(estimator, *args, **kwargs)\n"
     ]
    },
    {
     "name": "stdout",
     "output_type": "stream",
     "text": [
      "RMSE : 226067.55001113136\n",
      "R2 : 0.5228438016166386\n"
     ]
    }
   ],
   "source": [
    "RandomForest_model.fit(X4, y)\n",
    "\n",
    "prediction_forest_all = RandomForest_model.predict(X4)\n",
    "\n",
    "print(f'RMSE : {np.sqrt(mean_squared_error(y, prediction_forest_all))}')\n",
    "print(f'R2 : {r2_score(y, prediction_forest_all)}')"
   ]
  },
  {
   "cell_type": "markdown",
   "metadata": {},
   "source": [
    "SVR"
   ]
  },
  {
   "cell_type": "code",
   "execution_count": 24,
   "metadata": {},
   "outputs": [
    {
     "name": "stderr",
     "output_type": "stream",
     "text": [
      "c:\\Users\\Consultant\\AppData\\Local\\Programs\\Python\\Python312\\Lib\\site-packages\\sklearn\\utils\\validation.py:1300: DataConversionWarning: A column-vector y was passed when a 1d array was expected. Please change the shape of y to (n_samples, ), for example using ravel().\n",
      "  y = column_or_1d(y, warn=True)\n"
     ]
    },
    {
     "name": "stdout",
     "output_type": "stream",
     "text": [
      "RMSE : 216016.69266938252\n",
      "R2 : 0.5643289128330129\n"
     ]
    }
   ],
   "source": [
    "model_SVR.fit(X4, y)\n",
    "\n",
    "prediction_SVR_all = model_SVR.predict(X4)\n",
    "\n",
    "print(f'RMSE : {np.sqrt(mean_squared_error(y, prediction_SVR_all))}')\n",
    "print(f'R2 : {r2_score(y, prediction_SVR_all)}')"
   ]
  },
  {
   "cell_type": "markdown",
   "metadata": {},
   "source": [
    "KNN"
   ]
  },
  {
   "cell_type": "code",
   "execution_count": 25,
   "metadata": {},
   "outputs": [
    {
     "name": "stdout",
     "output_type": "stream",
     "text": [
      "RMSE : 156465.21983255434\n",
      "R2 : 0.7714297287554757\n"
     ]
    }
   ],
   "source": [
    "knn_model.fit(X4, y)\n",
    "\n",
    "prediction_KNN_all = knn_model.predict(X4)\n",
    "\n",
    "print(f'RMSE : {np.sqrt(mean_squared_error(y, prediction_KNN_all))}')\n",
    "print(f'R2 : {r2_score(y, prediction_KNN_all)}')"
   ]
  }
 ],
 "metadata": {
  "kernelspec": {
   "display_name": "Python 3",
   "language": "python",
   "name": "python3"
  },
  "language_info": {
   "codemirror_mode": {
    "name": "ipython",
    "version": 3
   },
   "file_extension": ".py",
   "mimetype": "text/x-python",
   "name": "python",
   "nbconvert_exporter": "python",
   "pygments_lexer": "ipython3",
   "version": "3.12.0"
  }
 },
 "nbformat": 4,
 "nbformat_minor": 2
}
